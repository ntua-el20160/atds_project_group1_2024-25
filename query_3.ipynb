{
 "cells": [
  {
   "cell_type": "code",
   "execution_count": 12,
   "id": "6b75afc5",
   "metadata": {
    "scrolled": true
   },
   "outputs": [
    {
     "data": {
      "application/vnd.jupyter.widget-view+json": {
       "model_id": "",
       "version_major": 2,
       "version_minor": 0
      },
      "text/plain": [
       "FloatProgress(value=0.0, bar_style='info', description='Progress:', layout=Layout(height='25px', width='50%'),…"
      ]
     },
     "metadata": {},
     "output_type": "display_data"
    }
   ],
   "source": [
    "from pyspark.sql import SparkSession\n",
    "from pyspark.sql.functions import *\n",
    "from sedona.register import SedonaRegistrator\n",
    "from sedona.sql.types import GeometryType\n",
    "from sedona.spark import *\n",
    "\n",
    "# Initialize Spark session\n",
    "spark = SparkSession.builder \\\n",
    "    .appName(\"IncomeCriminalityPerCommunity\") \\\n",
    "    .master(\"yarn\") \\\n",
    "    .config(\"spark.executor.instances\", \"4\") \\\n",
    "    .config(\"spark.sql.extensions\", \"org.apache.sedona.sql.SedonaSqlExtensions\") \\\n",
    "    .config(\"spark.serializer\", \"org.apache.spark.serializer.KryoSerializer\") \\\n",
    "    .config(\"spark.kryo.registrator\", \"org.apache.sedona.core.serde.SedonaKryoRegistrator\") \\\n",
    "    .getOrCreate()\n",
    "\n",
    "# Register Sedona functions\n",
    "SedonaRegistrator.registerAll(spark)\n",
    "\n",
    "# Create sedona context\n",
    "sedona = SedonaContext.create(spark)\n",
    "\n",
    "census_path = \"s3://initial-notebook-data-bucket-dblab-905418150721/2010_Census_Blocks.geojson\"\n",
    "census_raw = sedona.read.format(\"geojson\") \\\n",
    "            .option(\"multiLine\", \"true\").load(census_path) \\\n",
    "            .selectExpr(\"explode(features) as features\") \\\n",
    "            .select(\"features.*\")      \n",
    "census_data = census_raw.select( \\\n",
    "                [col(f\"properties.{col_name}\").alias(col_name) for col_name in \\\n",
    "                census_raw.schema[\"properties\"].dataType.fieldNames()] + [\"geometry\"]) \\\n",
    "            .drop(\"properties\") \\\n",
    "            .drop(\"type\")\n",
    "\n",
    "income_path = \"s3://initial-notebook-data-bucket-dblab-905418150721/LA_income_2015.csv\"\n",
    "income_data = spark.read.csv(\n",
    "    income_path,\n",
    "    header=True\n",
    ")"
   ]
  },
  {
   "cell_type": "code",
   "execution_count": 13,
   "id": "87621aa2",
   "metadata": {},
   "outputs": [
    {
     "data": {
      "application/vnd.jupyter.widget-view+json": {
       "model_id": "",
       "version_major": 2,
       "version_minor": 0
      },
      "text/plain": [
       "FloatProgress(value=0.0, bar_style='info', description='Progress:', layout=Layout(height='25px', width='50%'),…"
      ]
     },
     "metadata": {},
     "output_type": "display_data"
    }
   ],
   "source": [
    "from pyspark.sql.functions import col, regexp_replace, expr\n",
    "\n",
    "# Transform census_data\n",
    "census_transformed = census_data.select(\n",
    "        col(\"COMM\").alias(\"community\"),\n",
    "        col(\"POP_2010\").alias(\"population\"),\n",
    "        col(\"ZCTA10\").alias(\"zipcode\"),\n",
    "        col(\"geometry\"),\n",
    "        col(\"HOUSING10\").alias(\"households\"),\n",
    "        col(\"CITY\").alias(\"city\")\n",
    ")\n",
    "\n",
    "# Transform income_data\n",
    "income_transformed = income_data.select(\n",
    "        regexp_replace(\n",
    "            regexp_replace(col(\"Estimated Median Income\"), r\"\\$\", \"\"), \n",
    "            r\",\", \"\"\n",
    "        ).alias(\"household_income\"),\n",
    "        col(\"Zip Code\").alias(\"zipcode\"),\n",
    "        col(\"Community\").alias(\"community\"))\n",
    "    "
   ]
  },
  {
   "cell_type": "code",
   "execution_count": null,
   "id": "c28022bc",
   "metadata": {},
   "outputs": [],
   "source": []
  },
  {
   "cell_type": "code",
   "execution_count": 24,
   "id": "d5d2db67",
   "metadata": {},
   "outputs": [
    {
     "data": {
      "application/vnd.jupyter.widget-view+json": {
       "model_id": "",
       "version_major": 2,
       "version_minor": 0
      },
      "text/plain": [
       "FloatProgress(value=0.0, bar_style='info', description='Progress:', layout=Layout(height='25px', width='50%'),…"
      ]
     },
     "metadata": {},
     "output_type": "display_data"
    },
    {
     "name": "stdout",
     "output_type": "stream",
     "text": [
      "Rows (Blocks) in Densus Data (LA City): 30637\n",
      "Unique Zip Codes in Census Data (LA City): 135\n",
      "Unique Communities in Census Data (LA City): 139\n",
      "Rows in Income Data (LA City): 98\n",
      "Unique Zip Codes in Income Data (LA City): 98\n",
      "Unique Communities in Income Data (LA City): 89"
     ]
    }
   ],
   "source": [
    "c = census_transformed.filter((col(\"city\") == \"Los Angeles\"))\n",
    "i = income_transformed.filter(col(\"community\").startswith(\"Los Angeles\"))\n",
    "\n",
    "# Count unique zip codes and communities in Census Data\n",
    "unique_zipcodes_census = c.select(\"zipcode\").distinct().count()\n",
    "unique_communities_census = c.select(\"community\").distinct().count()\n",
    "blocks_census = c.count()\n",
    "\n",
    "# Count unique zip codes and communities in Income Data\n",
    "unique_zipcodes_income = i.select(\"zipcode\").distinct().count()\n",
    "unique_communities_income = i.select(\"community\").distinct().count()\n",
    "rows_income = i.count()\n",
    "\n",
    "# Print the results\n",
    "print(f\"Rows (Blocks) in Densus Data (LA City): {blocks_census}\")\n",
    "print(f\"Unique Zip Codes in Census Data (LA City): {unique_zipcodes_census}\")\n",
    "print(f\"Unique Communities in Census Data (LA City): {unique_communities_census}\")\n",
    "print(f\"Rows in Income Data (LA City): {rows_income}\")\n",
    "print(f\"Unique Zip Codes in Income Data (LA City): {unique_zipcodes_income}\")\n",
    "print(f\"Unique Communities in Income Data (LA City): {unique_communities_income}\")"
   ]
  },
  {
   "cell_type": "code",
   "execution_count": 15,
   "id": "15c57005",
   "metadata": {},
   "outputs": [
    {
     "data": {
      "application/vnd.jupyter.widget-view+json": {
       "model_id": "",
       "version_major": 2,
       "version_minor": 0
      },
      "text/plain": [
       "FloatProgress(value=0.0, bar_style='info', description='Progress:', layout=Layout(height='25px', width='50%'),…"
      ]
     },
     "metadata": {},
     "output_type": "display_data"
    }
   ],
   "source": [
    "# Load Crime CSV Files\n",
    "crime_raw_1 = spark.read.csv(\n",
    "    \"s3://initial-notebook-data-bucket-dblab-905418150721/CrimeData/Crime_Data_from_2010_to_2019_20241101.csv\",\n",
    "    header=True\n",
    ")\n",
    "crime_raw_2 = spark.read.csv(\n",
    "    \"s3://initial-notebook-data-bucket-dblab-905418150721/CrimeData/Crime_Data_from_2020_to_Present_20241101.csv\",\n",
    "    header=True\n",
    ")\n",
    "\n",
    "crimes = crime_raw_1.union(crime_raw_2).select(ST_Point(\"LON\", \"LAT\").alias(\"point\"))"
   ]
  },
  {
   "cell_type": "code",
   "execution_count": 16,
   "id": "87bdae1d",
   "metadata": {},
   "outputs": [
    {
     "data": {
      "application/vnd.jupyter.widget-view+json": {
       "model_id": "",
       "version_major": 2,
       "version_minor": 0
      },
      "text/plain": [
       "FloatProgress(value=0.0, bar_style='info', description='Progress:', layout=Layout(height='25px', width='50%'),…"
      ]
     },
     "metadata": {},
     "output_type": "display_data"
    }
   ],
   "source": [
    "# Perform the join, aggregation, and calculation\n",
    "results = (\n",
    "    census_transformed\n",
    "    .filter((col(\"city\") == \"Los Angeles\"))\n",
    "    .join(\n",
    "            income_transformed.filter(col(\"community\").startswith(\"Los Angeles\")), \n",
    "            on=\"zipcode\", \n",
    "            how=\"inner\")\n",
    "    .select(census_transformed[\"zipcode\"], \n",
    "            census_transformed[\"community\"], \n",
    "            census_transformed[\"geometry\"],\n",
    "            census_transformed[\"population\"],\n",
    "            census_transformed[\"households\"],\n",
    "            income_transformed[\"household_income\"])\n",
    "    .groupBy(\"community\")\n",
    "    .agg(\n",
    "        sum(\"population\").alias(\"total_population\"),\n",
    "        (sum(col(\"households\") * col(\"household_income\")) / sum(\"population\")).alias(\"average_income\"),\n",
    "        ST_Union_Aggr(\"geometry\").alias(\"geometry\"))\n",
    "    .join(crimes, ST_Within(\"point\", \"geometry\"), \"inner\")\n",
    "    .groupBy(\"community\")\n",
    "    .agg(\n",
    "        first(\"average_income\").alias(\"Average Income\"),\n",
    "        (count(\"*\") / first(\"total_population\")).alias(\"Average Crimes Per Person\")\n",
    "    )\n",
    ")"
   ]
  },
  {
   "cell_type": "code",
   "execution_count": 17,
   "id": "36fc6bb0",
   "metadata": {
    "scrolled": false
   },
   "outputs": [
    {
     "data": {
      "application/vnd.jupyter.widget-view+json": {
       "model_id": "",
       "version_major": 2,
       "version_minor": 0
      },
      "text/plain": [
       "FloatProgress(value=0.0, bar_style='info', description='Progress:', layout=Layout(height='25px', width='50%'),…"
      ]
     },
     "metadata": {},
     "output_type": "display_data"
    },
    {
     "name": "stdout",
     "output_type": "stream",
     "text": [
      "== Physical Plan ==\n",
      "AdaptiveSparkPlan (28)\n",
      "+- HashAggregate (27)\n",
      "   +- Exchange (26)\n",
      "      +- HashAggregate (25)\n",
      "         +- Project (24)\n",
      "            +- RangeJoin (23)\n",
      "               :- Filter (15)\n",
      "               :  +- ObjectHashAggregate (14)\n",
      "               :     +- Exchange (13)\n",
      "               :        +- ObjectHashAggregate (12)\n",
      "               :           +- Project (11)\n",
      "               :              +- BroadcastHashJoin Inner BuildRight (10)\n",
      "               :                 :- Project (5)\n",
      "               :                 :  +- Filter (4)\n",
      "               :                 :     +- Generate (3)\n",
      "               :                 :        +- Filter (2)\n",
      "               :                 :           +- Scan geojson  (1)\n",
      "               :                 +- BroadcastExchange (9)\n",
      "               :                    +- Project (8)\n",
      "               :                       +- Filter (7)\n",
      "               :                          +- Scan csv  (6)\n",
      "               +- Union (22)\n",
      "                  :- Project (18)\n",
      "                  :  +- Filter (17)\n",
      "                  :     +- Scan csv  (16)\n",
      "                  +- Project (21)\n",
      "                     +- Filter (20)\n",
      "                        +- Scan csv  (19)\n",
      "\n",
      "\n",
      "(1) Scan geojson \n",
      "Output [1]: [features#412]\n",
      "Batched: false\n",
      "Location: InMemoryFileIndex [s3://initial-notebook-data-bucket-dblab-905418150721/2010_Census_Blocks.geojson]\n",
      "PushedFilters: [IsNotNull(features)]\n",
      "ReadSchema: struct<features:array<struct<geometry:binary,properties:struct<BG10:string,BG10FIP10:string,BG12:string,CB10:string,CEN_FIP13:string,CITY:string,CITYCOM:string,COMM:string,CT10:string,CT12:string,CTCB10:string,HD_2012:bigint,HD_NAME:string,HOUSING10:bigint,LA_FIP10:string,OBJECTID:bigint,POP_2010:bigint,PUMA10:string,SPA_2012:bigint,SPA_NAME:string,SUP_DIST:string,SUP_LABEL:string,ShapeSTArea:double,ShapeSTLength:double,ZCTA10:string>,type:string>>>\n",
      "\n",
      "(2) Filter\n",
      "Input [1]: [features#412]\n",
      "Condition : ((size(features#412, true) > 0) AND isnotnull(features#412))\n",
      "\n",
      "(3) Generate\n",
      "Input [1]: [features#412]\n",
      "Arguments: explode(features#412), false, [features#420]\n",
      "\n",
      "(4) Filter\n",
      "Input [1]: [features#420]\n",
      "Condition : ((isnotnull(features#420.properties.CITY) AND (features#420.properties.CITY = Los Angeles)) AND isnotnull(features#420.properties.ZCTA10))\n",
      "\n",
      "(5) Project\n",
      "Output [5]: [features#420.properties.COMM AS community#581, features#420.properties.POP_2010 AS population#582L, features#420.properties.ZCTA10 AS zipcode#583, features#420.geometry AS geometry#423, features#420.properties.HOUSING10 AS households#584L]\n",
      "Input [1]: [features#420]\n",
      "\n",
      "(6) Scan csv \n",
      "Output [3]: [Zip Code#575, Community#576, Estimated Median Income#577]\n",
      "Batched: false\n",
      "Location: InMemoryFileIndex [s3://initial-notebook-data-bucket-dblab-905418150721/LA_income_2015.csv]\n",
      "PushedFilters: [IsNotNull(Community), StringStartsWith(Community,Los Angeles), IsNotNull(Zip Code)]\n",
      "ReadSchema: struct<Zip Code:string,Community:string,Estimated Median Income:string>\n",
      "\n",
      "(7) Filter\n",
      "Input [3]: [Zip Code#575, Community#576, Estimated Median Income#577]\n",
      "Condition : ((isnotnull(Community#576) AND StartsWith(Community#576, Los Angeles)) AND isnotnull(Zip Code#575))\n",
      "\n",
      "(8) Project\n",
      "Output [2]: [regexp_replace(regexp_replace(Estimated Median Income#577, \\$, , 1), ,, , 1) AS household_income#592, Zip Code#575 AS zipcode#593]\n",
      "Input [3]: [Zip Code#575, Community#576, Estimated Median Income#577]\n",
      "\n",
      "(9) BroadcastExchange\n",
      "Input [2]: [household_income#592, zipcode#593]\n",
      "Arguments: HashedRelationBroadcastMode(List(input[1, string, false]),false), [plan_id=793]\n",
      "\n",
      "(10) BroadcastHashJoin\n",
      "Left keys [1]: [zipcode#583]\n",
      "Right keys [1]: [zipcode#593]\n",
      "Join type: Inner\n",
      "Join condition: None\n",
      "\n",
      "(11) Project\n",
      "Output [5]: [community#581, geometry#423, population#582L, households#584L, household_income#592]\n",
      "Input [7]: [community#581, population#582L, zipcode#583, geometry#423, households#584L, household_income#592, zipcode#593]\n",
      "\n",
      "(12) ObjectHashAggregate\n",
      "Input [5]: [community#581, geometry#423, population#582L, households#584L, household_income#592]\n",
      "Keys [1]: [community#581]\n",
      "Functions [3]: [partial_sum(population#582L), partial_sum((cast(households#584L as double) * cast(household_income#592 as double))), partial_st_union_aggr(geometry#423, org.apache.spark.sql.sedona_sql.expressions.ST_Union_Aggr@7597f6bb, class[value[0]: geometry], class[value[0]: array<geometry>], true, true, 0, 0, None)]\n",
      "Aggregate Attributes [3]: [sum#913L, sum#915, buf#917]\n",
      "Results [4]: [community#581, sum#914L, sum#916, buf#918]\n",
      "\n",
      "(13) Exchange\n",
      "Input [4]: [community#581, sum#914L, sum#916, buf#918]\n",
      "Arguments: hashpartitioning(community#581, 1000), ENSURE_REQUIREMENTS, [plan_id=798]\n",
      "\n",
      "(14) ObjectHashAggregate\n",
      "Input [4]: [community#581, sum#914L, sum#916, buf#918]\n",
      "Keys [1]: [community#581]\n",
      "Functions [3]: [sum(population#582L), sum((cast(households#584L as double) * cast(household_income#592 as double))), st_union_aggr(geometry#423, org.apache.spark.sql.sedona_sql.expressions.ST_Union_Aggr@7597f6bb, class[value[0]: geometry], class[value[0]: array<geometry>], true, true, 0, 0, None)]\n",
      "Aggregate Attributes [3]: [sum(population#582L)#847L, sum((cast(households#584L as double) * cast(household_income#592 as double)))#849, ST_Union_Aggr(geometry#423)#855]\n",
      "Results [4]: [community#581, sum(population#582L)#847L AS total_population#848L, (sum((cast(households#584L as double) * cast(household_income#592 as double)))#849 / cast(sum(population#582L)#847L as double)) AS average_income#851, ST_Union_Aggr(geometry#423)#855 AS geometry#856]\n",
      "\n",
      "(15) Filter\n",
      "Input [4]: [community#581, total_population#848L, average_income#851, geometry#856]\n",
      "Condition : isnotnull(geometry#856)\n",
      "\n",
      "(16) Scan csv \n",
      "Output [2]: [LAT#693, LON#694]\n",
      "Batched: false\n",
      "Location: InMemoryFileIndex [s3://initial-notebook-data-bucket-dblab-905418150721/CrimeData/Crime_Data_from_2010_to_2019_20241101.csv]\n",
      "ReadSchema: struct<LAT:string,LON:string>\n",
      "\n",
      "(17) Filter\n",
      "Input [2]: [LAT#693, LON#694]\n",
      "Condition : isnotnull( **org.apache.spark.sql.sedona_sql.expressions.ST_Point**  )\n",
      "\n",
      "(18) Project\n",
      "Output [1]: [ **org.apache.spark.sql.sedona_sql.expressions.ST_Point**   AS point#825]\n",
      "Input [2]: [LAT#693, LON#694]\n",
      "\n",
      "(19) Scan csv \n",
      "Output [2]: [LAT#767, LON#768]\n",
      "Batched: false\n",
      "Location: InMemoryFileIndex [s3://initial-notebook-data-bucket-dblab-905418150721/CrimeData/Crime_Data_from_2020_to_Present_20241101.csv]\n",
      "ReadSchema: struct<LAT:string,LON:string>\n",
      "\n",
      "(20) Filter\n",
      "Input [2]: [LAT#767, LON#768]\n",
      "Condition : isnotnull( **org.apache.spark.sql.sedona_sql.expressions.ST_Point**  )\n",
      "\n",
      "(21) Project\n",
      "Output [1]: [ **org.apache.spark.sql.sedona_sql.expressions.ST_Point**   AS point#902]\n",
      "Input [2]: [LAT#767, LON#768]\n",
      "\n",
      "(22) Union\n",
      "\n",
      "(23) RangeJoin\n",
      "Arguments: geometry#856: geometry, point#825: geometry, CONTAINS\n",
      "\n",
      "(24) Project\n",
      "Output [3]: [community#581, total_population#848L, average_income#851]\n",
      "Input [5]: [community#581, total_population#848L, average_income#851, geometry#856, point#825]\n",
      "\n",
      "(25) HashAggregate\n",
      "Input [3]: [community#581, total_population#848L, average_income#851]\n",
      "Keys [1]: [community#581]\n",
      "Functions [3]: [partial_first(average_income#851, false), partial_count(1), partial_first(total_population#848L, false)]\n",
      "Aggregate Attributes [5]: [first#903, valueSet#904, count#907L, first#909L, valueSet#910]\n",
      "Results [6]: [community#581, first#905, valueSet#906, count#908L, first#911L, valueSet#912]\n",
      "\n",
      "(26) Exchange\n",
      "Input [6]: [community#581, first#905, valueSet#906, count#908L, first#911L, valueSet#912]\n",
      "Arguments: hashpartitioning(community#581, 1000), ENSURE_REQUIREMENTS, [plan_id=805]\n",
      "\n",
      "(27) HashAggregate\n",
      "Input [6]: [community#581, first#905, valueSet#906, count#908L, first#911L, valueSet#912]\n",
      "Keys [1]: [community#581]\n",
      "Functions [3]: [first(average_income#851, false), count(1), first(total_population#848L, false)]\n",
      "Aggregate Attributes [3]: [first(average_income#851)()#894, count(1)#896L, first(total_population#848L)()#897L]\n",
      "Results [3]: [community#581, first(average_income#851)()#894 AS Average Income#895, (cast(count(1)#896L as double) / cast(first(total_population#848L)()#897L as double)) AS Average Crimes Per Person#898]\n",
      "\n",
      "(28) AdaptiveSparkPlan\n",
      "Output [3]: [community#581, Average Income#895, Average Crimes Per Person#898]\n",
      "Arguments: isFinalPlan=false"
     ]
    }
   ],
   "source": [
    "results.explain(mode=\"formatted\")"
   ]
  },
  {
   "cell_type": "code",
   "execution_count": 18,
   "id": "489c315f",
   "metadata": {},
   "outputs": [
    {
     "data": {
      "application/vnd.jupyter.widget-view+json": {
       "model_id": "",
       "version_major": 2,
       "version_minor": 0
      },
      "text/plain": [
       "FloatProgress(value=0.0, bar_style='info', description='Progress:', layout=Layout(height='25px', width='50%'),…"
      ]
     },
     "metadata": {},
     "output_type": "display_data"
    },
    {
     "name": "stdout",
     "output_type": "stream",
     "text": [
      "+------------------+------------------+-------------------------+\n",
      "|         community|    Average Income|Average Crimes Per Person|\n",
      "+------------------+------------------+-------------------------+\n",
      "|    Toluca Terrace|20167.531898539586|      0.23059185242121444|\n",
      "|      Elysian Park|13871.322764382001|       0.8173533320675906|\n",
      "|          Longwood|13420.052256532066|        0.730166270783848|\n",
      "|     Green Meadows| 8027.096412895414|       1.2095757025377125|\n",
      "|  Cadillac-Corning|19572.784696174043|       0.6669167291822956|\n",
      "|          Mid-city| 21734.64899923286|       0.8071692586651789|\n",
      "|   Lincoln Heights|10902.134793218598|       0.6226239404058567|\n",
      "|          Van Nuys|14488.189551145677|       0.9170415838361292|\n",
      "|    Gramercy Place|14936.698098639128|       1.0759579191197761|\n",
      "| Faircrest Heights|20908.511762997387|       1.2802788266047052|\n",
      "|     Boyle Heights|7451.4033262510075|       0.7583217329718905|\n",
      "|  Lafayette Square|16700.833409821018|       0.9137218907755851|\n",
      "|     Granada Hills|27608.016856376424|       0.5782462118465889|\n",
      "|       North Hills|16224.486385809312|        0.655059866962306|\n",
      "|        Northridge|22909.936328320196|       0.7992810741976563|\n",
      "|   Wilshire Center| 15965.02522465377|       0.8635796595834655|\n",
      "|    Jefferson Park|10258.852338413031|       0.6823436678928009|\n",
      "|    Vermont Square| 8329.565791341376|       0.7997161107168205|\n",
      "|Cloverdale/Cochran|14660.930872291905|       0.7079532497149373|\n",
      "|   Adams-Normandie| 8791.458301453711|       0.7369293547564397|\n",
      "+------------------+------------------+-------------------------+\n",
      "only showing top 20 rows"
     ]
    }
   ],
   "source": [
    "results.show()"
   ]
  },
  {
   "cell_type": "code",
   "execution_count": 19,
   "id": "fe05cc76",
   "metadata": {},
   "outputs": [
    {
     "data": {
      "application/vnd.jupyter.widget-view+json": {
       "model_id": "",
       "version_major": 2,
       "version_minor": 0
      },
      "text/plain": [
       "FloatProgress(value=0.0, bar_style='info', description='Progress:', layout=Layout(height='25px', width='50%'),…"
      ]
     },
     "metadata": {},
     "output_type": "display_data"
    },
    {
     "name": "stdout",
     "output_type": "stream",
     "text": [
      "+-----------------------+--------------+-------------------------+\n",
      "|community              |Average Income|Average Crimes Per Person|\n",
      "+-----------------------+--------------+-------------------------+\n",
      "|Toluca Terrace         |20168.0       |0.231                    |\n",
      "|Elysian Park           |13871.0       |0.817                    |\n",
      "|Longwood               |13420.0       |0.73                     |\n",
      "|Green Meadows          |8027.0        |1.21                     |\n",
      "|Cadillac-Corning       |19573.0       |0.667                    |\n",
      "|Mid-city               |21735.0       |0.807                    |\n",
      "|Lincoln Heights        |10902.0       |0.623                    |\n",
      "|Van Nuys               |14488.0       |0.917                    |\n",
      "|Gramercy Place         |14937.0       |1.076                    |\n",
      "|Faircrest Heights      |20909.0       |1.28                     |\n",
      "|Boyle Heights          |7451.0        |0.758                    |\n",
      "|Lafayette Square       |16701.0       |0.914                    |\n",
      "|Granada Hills          |27608.0       |0.578                    |\n",
      "|North Hills            |16224.0       |0.655                    |\n",
      "|Northridge             |22910.0       |0.799                    |\n",
      "|Wilshire Center        |15965.0       |0.864                    |\n",
      "|Jefferson Park         |10259.0       |0.682                    |\n",
      "|Vermont Square         |8330.0        |0.8                      |\n",
      "|Cloverdale/Cochran     |14661.0       |0.708                    |\n",
      "|Adams-Normandie        |8791.0        |0.737                    |\n",
      "|Harbor Pines           |19223.0       |0.556                    |\n",
      "|Encino                 |38338.0       |0.704                    |\n",
      "|Reynier Village        |24451.0       |0.717                    |\n",
      "|Toluca Woods           |24518.0       |0.642                    |\n",
      "|Glassell Park          |18824.0       |0.502                    |\n",
      "|Silverlake             |24918.0       |0.722                    |\n",
      "|Sunland                |26121.0       |0.5                      |\n",
      "|Cheviot Hills          |36521.0       |0.556                    |\n",
      "|Carthay                |49784.0       |0.933                    |\n",
      "|West Los Angeles       |39714.0       |0.831                    |\n",
      "|South Carthay          |39831.0       |0.723                    |\n",
      "|Country Club Park      |15775.0       |0.731                    |\n",
      "|Venice                 |47642.0       |1.253                    |\n",
      "|University Hills       |11766.0       |0.344                    |\n",
      "|Century Palms/Cove     |8554.0        |1.27                     |\n",
      "|Playa Vista            |60511.0       |0.659                    |\n",
      "|Chinatown              |14058.0       |1.256                    |\n",
      "|Beverlywood            |29268.0       |0.521                    |\n",
      "|Manchester Square      |14590.0       |1.09                     |\n",
      "|Temple-Beaudry         |14815.0       |0.736                    |\n",
      "|Figueroa Park Square   |9887.0        |0.578                    |\n",
      "|Beverly Crest          |55743.0       |0.343                    |\n",
      "|Koreatown              |13588.0       |0.777                    |\n",
      "|Harbor City            |21339.0       |0.628                    |\n",
      "|Pacific Palisades      |71164.0       |0.448                    |\n",
      "|Angelino Heights       |18412.0       |0.63                     |\n",
      "|North Hollywood        |17301.0       |0.801                    |\n",
      "|Canoga Park            |19657.0       |0.896                    |\n",
      "|Atwater Village        |28477.0       |0.688                    |\n",
      "|Harvard Heights        |11821.0       |0.781                    |\n",
      "|Reseda                 |16928.0       |0.611                    |\n",
      "|Playa Del Rey          |45523.0       |0.777                    |\n",
      "|Brentwood              |60844.0       |0.504                    |\n",
      "|Alsace                 |11240.0       |0.551                    |\n",
      "|South Park             |6943.0        |0.886                    |\n",
      "|Studio City            |43959.0       |0.933                    |\n",
      "|Mandeville Canyon      |55572.0       |0.262                    |\n",
      "|Crestview              |33327.0       |0.68                     |\n",
      "|Panorama City          |10221.0       |0.65                     |\n",
      "|Hollywood Hills        |43016.0       |0.794                    |\n",
      "|Exposition             |12323.0       |1.352                    |\n",
      "|Exposition Park        |8956.0        |1.047                    |\n",
      "|Angeles National Forest|28118.0       |11.35                    |\n",
      "|Regent Square          |19616.0       |0.782                    |\n",
      "|Lake Balboa            |17289.0       |0.602                    |\n",
      "|Central                |6973.0        |0.705                    |\n",
      "|Westchester            |33926.0       |1.202                    |\n",
      "|Winnetka               |19639.0       |0.669                    |\n",
      "|Wellington Square      |13446.0       |0.983                    |\n",
      "|Little Bangladesh      |18590.0       |0.743                    |\n",
      "|Reseda Ranch           |14318.0       |0.772                    |\n",
      "|West Vernon            |8723.0        |1.074                    |\n",
      "|Vernon Central         |6624.0        |0.729                    |\n",
      "|Mt. Washington         |16611.0       |0.48                     |\n",
      "|Bel Air                |63051.0       |0.426                    |\n",
      "|Victoria Park          |15596.0       |0.733                    |\n",
      "|Mar Vista              |41238.0       |0.67                     |\n",
      "|Park La Brea           |36620.0       |1.025                    |\n",
      "|Del Rey                |60971.0       |0.621                    |\n",
      "|Baldwin Hills          |17303.0       |1.194                    |\n",
      "|Elysian Valley         |16254.0       |0.602                    |\n",
      "|Century City           |46104.0       |0.856                    |\n",
      "|Vermont Knolls         |13814.0       |1.056                    |\n",
      "|Wholesale District     |7612.0        |2.15                     |\n",
      "|Valley Village         |28191.0       |0.681                    |\n",
      "|Palisades Highlands    |66877.0       |0.205                    |\n",
      "|Mission Hills          |18065.0       |0.669                    |\n",
      "|Thai Town              |26851.0       |0.531                    |\n",
      "|El Sereno              |13557.0       |0.495                    |\n",
      "|Vermont Vista          |8311.0        |1.636                    |\n",
      "|Pacoima                |11793.0       |0.564                    |\n",
      "|San Pedro              |24245.0       |0.768                    |\n",
      "|Watts                  |7754.0        |0.995                    |\n",
      "|Harvard Park           |11464.0       |1.05                     |\n",
      "|Hyde Park              |14143.0       |1.083                    |\n",
      "|Arleta                 |12111.0       |0.442                    |\n",
      "|Downtown               |18523.0       |4.029                    |\n",
      "|Tujunga                |22096.0       |0.454                    |\n",
      "|Chatsworth             |30581.0       |0.692                    |\n",
      "|St Elmo Village        |13124.0       |0.757                    |\n",
      "|Westwood               |25507.0       |0.394                    |\n",
      "|Little Tokyo           |15282.0       |4.021                    |\n",
      "|University Park        |6863.0        |1.038                    |\n",
      "|Sylmar                 |16411.0       |0.523                    |\n",
      "|Marina Peninsula       |65236.0       |0.612                    |\n",
      "|Miracle Mile           |38835.0       |0.882                    |\n",
      "|West Hills             |28761.0       |0.483                    |\n",
      "|Hollywood              |25648.0       |1.551                    |\n",
      "|Hancock Park           |21539.0       |0.898                    |\n",
      "|Shadow Hills           |25204.0       |0.583                    |\n",
      "|Eagle Rock             |20577.0       |0.503                    |\n",
      "|Pico-Union             |10470.0       |0.781                    |\n",
      "|Historic Filipinotown  |15176.0       |0.838                    |\n",
      "|Brookside              |18139.0       |0.886                    |\n",
      "|Little Armenia         |15092.0       |0.865                    |\n",
      "|Rancho Park            |38740.0       |1.255                    |\n",
      "|Tarzana                |29096.0       |0.739                    |\n",
      "|Sycamore Square        |30117.0       |1.128                    |\n",
      "|Echo Park              |21598.0       |0.729                    |\n",
      "|Harbor Gateway         |11691.0       |4.56                     |\n",
      "|Wilmington             |11171.0       |0.751                    |\n",
      "|Porter Ranch           |35201.0       |0.403                    |\n",
      "|Palms                  |30085.0       |0.527                    |\n",
      "|Sun Valley             |13207.0       |0.685                    |\n",
      "|Leimert Park           |16099.0       |1.215                    |\n",
      "|Melrose                |21688.0       |0.91                     |\n",
      "|Westlake               |10117.0       |1.003                    |\n",
      "|Florence-Firestone     |8079.0        |1.113                    |\n",
      "|East Hollywood         |14006.0       |0.811                    |\n",
      "|Highland Park          |16887.0       |0.5                      |\n",
      "|Sherman Oaks           |37732.0       |0.791                    |\n",
      "|Valley Glen            |18272.0       |0.555                    |\n",
      "|Woodland Hills         |37617.0       |0.71                     |\n",
      "|Toluca Lake            |37051.0       |0.777                    |\n",
      "|View Heights           |15274.0       |0.694                    |\n",
      "|Lakeview Terrace       |15991.0       |0.623                    |\n",
      "|West Adams             |10767.0       |0.783                    |\n",
      "|Crenshaw District      |14905.0       |1.011                    |\n",
      "|Los Feliz              |30473.0       |0.908                    |\n",
      "+-----------------------+--------------+-------------------------+"
     ]
    }
   ],
   "source": [
    "from pyspark.sql.functions import round\n",
    "df = results\n",
    "# Round the columns\n",
    "rounded_df = df.withColumn(\"Average Income\", round(df[\"Average Income\"], 0)) \\\n",
    "               .withColumn(\"Average Crimes Per Person\", round(df[\"Average Crimes Per Person\"], 3))\n",
    "\n",
    "# Show all rows with rounded values\n",
    "rounded_df.show(n=rounded_df.count(), truncate=False)"
   ]
  },
  {
   "cell_type": "code",
   "execution_count": 20,
   "id": "5e70ad70",
   "metadata": {
    "scrolled": true
   },
   "outputs": [
    {
     "data": {
      "application/vnd.jupyter.widget-view+json": {
       "model_id": "",
       "version_major": 2,
       "version_minor": 0
      },
      "text/plain": [
       "FloatProgress(value=0.0, bar_style='info', description='Progress:', layout=Layout(height='25px', width='50%'),…"
      ]
     },
     "metadata": {},
     "output_type": "display_data"
    },
    {
     "name": "stdout",
     "output_type": "stream",
     "text": [
      "Broadcast Hash Join (Income Table): 12.19 seconds\n",
      "Broadcast Hash Join (Census Blocks): 11.12 seconds\n",
      "Sort Merge Join (Income Table): 10.53 seconds\n",
      "Sort Merge Join (Census Blocks): 11.28 seconds\n",
      "Shuffle Hash Join (Income Table): 10.37 seconds\n",
      "Shuffle Hash Join (Census Blocks): 11.51 seconds\n",
      "Cartesian Product Join (Income Table): 11.03 seconds\n",
      "Cartesian Product Join (Census Blocks): 10.69 seconds"
     ]
    }
   ],
   "source": [
    "import time\n",
    "c = census_transformed.filter((col(\"city\") == \"Los Angeles\"))\n",
    "i = income_transformed.filter(col(\"community\").startswith(\"Los Angeles\"))\n",
    "\n",
    "def test(df, name, iterations=10):\n",
    "    t = 0\n",
    "    for iter in range(iterations):\n",
    "        # Introduce a dummy transformation to force recomputation\n",
    "        temp_df = df.withColumn(f\"dummy{iter}\", df[\"zipcode\"] + iter)\n",
    "        t0 = time.time()\n",
    "        temp_df.collect()\n",
    "        t = t + time.time() - t0\n",
    "    t = t / iterations\n",
    "    print(f\"{name}: {t:.2f} seconds\")\n",
    "\n",
    "    \n",
    "broadcast_i = c.join(i.hint(\"BROADCAST\"), on=\"zipcode\", how=\"inner\")\n",
    "broadcast_c = c.hint(\"BROADCAST\").join(i, on=\"zipcode\", how=\"inner\")\n",
    "merge_i = c.join(i.hint(\"MERGE\"), on=\"zipcode\", how=\"inner\")\n",
    "merge_c = c.hint(\"MERGE\").join(i, on=\"zipcode\", how=\"inner\")\n",
    "shuffle_hash_i = c.join(i.hint(\"SHUFFLE_HASH\"), on=\"zipcode\", how=\"inner\")\n",
    "shuffle_hash_c = c.hint(\"SHUFFLE_HASH\").join(i, on=\"zipcode\", how=\"inner\")\n",
    "shuffle_replicate_nl_i = c.join(i.hint(\"SHUFFLE_REPLICATE_NL\"), on=\"zipcode\", how=\"inner\")\n",
    "shuffle_replicate_nl_c = c.hint(\"SHUFFLE_REPLICATE_NL\").join(i, on=\"zipcode\", how=\"inner\")\n",
    "\n",
    "test(broadcast_i, \"Broadcast Hash Join (Income Table)\")\n",
    "test(broadcast_c, \"Broadcast Hash Join (Census Blocks)\")\n",
    "test(merge_i, \"Sort Merge Join (Income Table)\")\n",
    "test(merge_c, \"Sort Merge Join (Census Blocks)\")\n",
    "test(shuffle_hash_i, \"Shuffle Hash Join (Income Table)\")\n",
    "test(shuffle_hash_c, \"Shuffle Hash Join (Census Blocks)\")\n",
    "test(shuffle_replicate_nl_i, \"Cartesian Product Join (Income Table)\")\n",
    "test(shuffle_replicate_nl_c, \"Cartesian Product Join (Census Blocks)\")\n",
    "\n"
   ]
  },
  {
   "cell_type": "code",
   "execution_count": 21,
   "id": "47a27268",
   "metadata": {},
   "outputs": [
    {
     "data": {
      "application/vnd.jupyter.widget-view+json": {
       "model_id": "",
       "version_major": 2,
       "version_minor": 0
      },
      "text/plain": [
       "FloatProgress(value=0.0, bar_style='info', description='Progress:', layout=Layout(height='25px', width='50%'),…"
      ]
     },
     "metadata": {},
     "output_type": "display_data"
    },
    {
     "name": "stdout",
     "output_type": "stream",
     "text": [
      "== Physical Plan ==\n",
      "* Project (10)\n",
      "+- CartesianProduct Inner (9)\n",
      "   :- * Project (5)\n",
      "   :  +- * Filter (4)\n",
      "   :     +- * Generate (3)\n",
      "   :        +- * Filter (2)\n",
      "   :           +- Scan geojson  (1)\n",
      "   +- * Project (8)\n",
      "      +- * Filter (7)\n",
      "         +- Scan csv  (6)\n",
      "\n",
      "\n",
      "(1) Scan geojson \n",
      "Output [1]: [features#412]\n",
      "Batched: false\n",
      "Location: InMemoryFileIndex [s3://initial-notebook-data-bucket-dblab-905418150721/2010_Census_Blocks.geojson]\n",
      "PushedFilters: [IsNotNull(features)]\n",
      "ReadSchema: struct<features:array<struct<geometry:binary,properties:struct<BG10:string,BG10FIP10:string,BG12:string,CB10:string,CEN_FIP13:string,CITY:string,CITYCOM:string,COMM:string,CT10:string,CT12:string,CTCB10:string,HD_2012:bigint,HD_NAME:string,HOUSING10:bigint,LA_FIP10:string,OBJECTID:bigint,POP_2010:bigint,PUMA10:string,SPA_2012:bigint,SPA_NAME:string,SUP_DIST:string,SUP_LABEL:string,ShapeSTArea:double,ShapeSTLength:double,ZCTA10:string>,type:string>>>\n",
      "\n",
      "(2) Filter [codegen id : 1]\n",
      "Input [1]: [features#412]\n",
      "Condition : ((size(features#412, true) > 0) AND isnotnull(features#412))\n",
      "\n",
      "(3) Generate [codegen id : 1]\n",
      "Input [1]: [features#412]\n",
      "Arguments: explode(features#412), false, [features#420]\n",
      "\n",
      "(4) Filter [codegen id : 1]\n",
      "Input [1]: [features#420]\n",
      "Condition : ((isnotnull(features#420.properties.CITY) AND (features#420.properties.CITY = Los Angeles)) AND isnotnull(features#420.properties.ZCTA10))\n",
      "\n",
      "(5) Project [codegen id : 1]\n",
      "Output [6]: [features#420.properties.COMM AS community#581, features#420.properties.POP_2010 AS population#582L, features#420.properties.ZCTA10 AS zipcode#583, features#420.geometry AS geometry#423, features#420.properties.HOUSING10 AS households#584L, features#420.properties.CITY AS city#585]\n",
      "Input [1]: [features#420]\n",
      "\n",
      "(6) Scan csv \n",
      "Output [3]: [Zip Code#575, Community#576, Estimated Median Income#577]\n",
      "Batched: false\n",
      "Location: InMemoryFileIndex [s3://initial-notebook-data-bucket-dblab-905418150721/LA_income_2015.csv]\n",
      "PushedFilters: [IsNotNull(Community), StringStartsWith(Community,Los Angeles), IsNotNull(Zip Code)]\n",
      "ReadSchema: struct<Zip Code:string,Community:string,Estimated Median Income:string>\n",
      "\n",
      "(7) Filter [codegen id : 2]\n",
      "Input [3]: [Zip Code#575, Community#576, Estimated Median Income#577]\n",
      "Condition : ((isnotnull(Community#576) AND StartsWith(Community#576, Los Angeles)) AND isnotnull(Zip Code#575))\n",
      "\n",
      "(8) Project [codegen id : 2]\n",
      "Output [3]: [regexp_replace(regexp_replace(Estimated Median Income#577, \\$, , 1), ,, , 1) AS household_income#592, Zip Code#575 AS zipcode#593, Community#576 AS community#594]\n",
      "Input [3]: [Zip Code#575, Community#576, Estimated Median Income#577]\n",
      "\n",
      "(9) CartesianProduct\n",
      "Join type: Inner\n",
      "Join condition: (zipcode#583 = zipcode#593)\n",
      "\n",
      "(10) Project [codegen id : 3]\n",
      "Output [8]: [zipcode#583, community#581, population#582L, geometry#423, households#584L, city#585, household_income#592, community#594]\n",
      "Input [9]: [community#581, population#582L, zipcode#583, geometry#423, households#584L, city#585, household_income#592, zipcode#593, community#594]"
     ]
    }
   ],
   "source": [
    "shuffle_replicate_nl_c.explain(\"formatted\")"
   ]
  },
  {
   "cell_type": "code",
   "execution_count": null,
   "id": "4fdd7ad9",
   "metadata": {},
   "outputs": [],
   "source": []
  }
 ],
 "metadata": {
  "kernelspec": {
   "display_name": "Sparkmagic (PySpark)",
   "language": "python",
   "name": "pysparkkernel"
  },
  "language_info": {
   "codemirror_mode": {
    "name": "python",
    "version": 3
   },
   "file_extension": ".py",
   "mimetype": "text/x-python",
   "name": "pyspark",
   "pygments_lexer": "python3"
  }
 },
 "nbformat": 4,
 "nbformat_minor": 5
}

{
 "cells": [
  {
   "cell_type": "code",
   "execution_count": 1,
   "id": "56d49751",
   "metadata": {},
   "outputs": [
    {
     "name": "stdout",
     "output_type": "stream",
     "text": [
      "Starting Spark application\n"
     ]
    },
    {
     "data": {
      "text/html": [
       "<table>\n",
       "<tr><th>ID</th><th>YARN Application ID</th><th>Kind</th><th>State</th><th>Spark UI</th><th>Driver log</th><th>User</th><th>Current session?</th></tr><tr><td>2736</td><td>application_1732639283265_2695</td><td>pyspark</td><td>idle</td><td><a target=\"_blank\" href=\"http://ip-192-168-1-36.eu-central-1.compute.internal:20888/proxy/application_1732639283265_2695/\">Link</a></td><td><a target=\"_blank\" href=\"http://ip-192-168-1-233.eu-central-1.compute.internal:8042/node/containerlogs/container_1732639283265_2695_01_000001/livy\">Link</a></td><td>None</td><td>✔</td></tr></table>"
      ],
      "text/plain": [
       "<IPython.core.display.HTML object>"
      ]
     },
     "metadata": {},
     "output_type": "display_data"
    },
    {
     "data": {
      "application/vnd.jupyter.widget-view+json": {
       "model_id": "",
       "version_major": 2,
       "version_minor": 0
      },
      "text/plain": [
       "FloatProgress(value=0.0, bar_style='info', description='Progress:', layout=Layout(height='25px', width='50%'),…"
      ]
     },
     "metadata": {},
     "output_type": "display_data"
    },
    {
     "name": "stdout",
     "output_type": "stream",
     "text": [
      "SparkSession available as 'spark'.\n"
     ]
    },
    {
     "data": {
      "application/vnd.jupyter.widget-view+json": {
       "model_id": "",
       "version_major": 2,
       "version_minor": 0
      },
      "text/plain": [
       "FloatProgress(value=0.0, bar_style='info', description='Progress:', layout=Layout(height='25px', width='50%'),…"
      ]
     },
     "metadata": {},
     "output_type": "display_data"
    }
   ],
   "source": [
    "from pyspark.sql import SparkSession\n",
    "from pyspark.sql.functions import (\n",
    "    col, count, when, to_timestamp, year, row_number\n",
    ")\n",
    "from pyspark.sql.window import Window\n",
    "\n",
    "\n",
    "#initialize spark session\n",
    "spark = SparkSession \\\n",
    "    .builder \\\n",
    "    .appName(\"CrimeDataAnalysis\") \\\n",
    "    .getOrCreate()\n"
   ]
  },
  {
   "cell_type": "code",
   "execution_count": 2,
   "id": "ecc77ce8",
   "metadata": {},
   "outputs": [
    {
     "data": {
      "application/vnd.jupyter.widget-view+json": {
       "model_id": "",
       "version_major": 2,
       "version_minor": 0
      },
      "text/plain": [
       "FloatProgress(value=0.0, bar_style='info', description='Progress:', layout=Layout(height='25px', width='50%'),…"
      ]
     },
     "metadata": {},
     "output_type": "display_data"
    }
   ],
   "source": [
    "\n",
    "import time\n",
    "\n",
    "def process_data_with_dataframe_per_dataset(s3_link,csv = True):\n",
    "     #read csv or parquet of the crime data\n",
    "    if csv:\n",
    "        crime_data_df = spark.read.csv(s3_link, header=True, inferSchema=True)\n",
    "    else:\n",
    "        crime_data_df = spark.read.parquet(s3_link, header=True, inferSchema=True)\n",
    "\n",
    "    #add a year column by extracting the year from the date column\n",
    "    crime_data_df = crime_data_df.withColumn(\n",
    "        \"year\",\n",
    "        year(to_timestamp(col(\"DATE OCC\"), \"MM/dd/yyyy hh:mm:ss a\"))\n",
    "    )\n",
    "    #remove the mission area name as it doesn't match any of the precincts\n",
    "    #(probably referncing joined operation of many precincts that we cannot include in the data)\n",
    "    crime_data_df = crime_data_df.filter(col(\"AREA NAME\") != \"Mission\")\n",
    "\n",
    "\n",
    "    # calculate the closed case rate by year and by area(precinct)\n",
    "    stats_df = crime_data_df.groupBy(\"year\", \"AREA NAME\") \\\n",
    "        .agg(\n",
    "            count(\"*\").alias(\"total_crimes\"),\n",
    "            count(when((col(\"Status\") != \"IC\") & (col(\"Status\") != \"UNK\"), 1)).alias(\"solved_crimes\")\n",
    "        ) \\\n",
    "        .withColumn(\"closed_case_rate\", (col(\"solved_crimes\") / col(\"total_crimes\")) * 100)\n",
    "\n",
    "    # define a window for ranking areas by closed case rate within each year\n",
    "    window_spec = Window.partitionBy(\"year\").orderBy(col(\"closed_case_rate\").desc())\n",
    "    #add the column of the rank\n",
    "    stats_df = stats_df.withColumn(\"#\", row_number().over(window_spec))\n",
    "\n",
    "    # keep the 3 ares with the highesst rate\n",
    "    top_3_df = stats_df.filter(col(\"#\") <= 3)\n",
    "\n",
    "    # Return the processed dataFrame with the selected columns\n",
    "    return top_3_df.select(\n",
    "        col(\"year\"),\n",
    "        col(\"AREA NAME\").alias(\"precinct\"),\n",
    "        col(\"closed_case_rate\"),\n",
    "        col(\"#\")\n",
    "    ).orderBy(\"year\", \"#\")\n",
    "\n",
    "\n",
    "\n"
   ]
  },
  {
   "cell_type": "code",
   "execution_count": 5,
   "id": "58edb896",
   "metadata": {},
   "outputs": [
    {
     "data": {
      "application/vnd.jupyter.widget-view+json": {
       "model_id": "",
       "version_major": 2,
       "version_minor": 0
      },
      "text/plain": [
       "FloatProgress(value=0.0, bar_style='info', description='Progress:', layout=Layout(height='25px', width='50%'),…"
      ]
     },
     "metadata": {},
     "output_type": "display_data"
    },
    {
     "name": "stdout",
     "output_type": "stream",
     "text": [
      "+----+-----------+------------------+---+\n",
      "|year|precinct   |closed_case_rate  |#  |\n",
      "+----+-----------+------------------+---+\n",
      "|2010|Rampart    |32.84713448949121 |1  |\n",
      "|2010|Olympic    |31.515289821999087|2  |\n",
      "|2010|Harbor     |29.36028339237341 |3  |\n",
      "|2011|Olympic    |35.040060090135206|1  |\n",
      "|2011|Rampart    |32.4964471814306  |2  |\n",
      "|2011|Harbor     |28.51336246316431 |3  |\n",
      "|2012|Olympic    |34.29708533302119 |1  |\n",
      "|2012|Rampart    |32.46000463714352 |2  |\n",
      "|2012|Harbor     |29.509585848956675|3  |\n",
      "|2013|Olympic    |33.58217940999398 |1  |\n",
      "|2013|Rampart    |32.1060382916053  |2  |\n",
      "|2013|Harbor     |29.723638951488557|3  |\n",
      "|2014|Van Nuys   |32.0215235281705  |1  |\n",
      "|2014|West Valley|31.49754809505847 |2  |\n",
      "|2014|Foothill   |30.723059743160245|3  |\n",
      "|2015|Van Nuys   |32.265140677157845|1  |\n",
      "|2015|Foothill   |30.353001803658852|2  |\n",
      "|2015|West Valley|30.316223648029332|3  |\n",
      "|2016|Van Nuys   |32.194518462124094|1  |\n",
      "|2016|West Valley|31.40146437042384 |2  |\n",
      "|2016|Foothill   |29.908647228131645|3  |\n",
      "|2017|Van Nuys   |32.0554272517321  |1  |\n",
      "|2017|Foothill   |30.469700657094183|2  |\n",
      "|2017|West Valley|30.28571428571429 |3  |\n",
      "|2018|Foothill   |30.731346958877126|1  |\n",
      "|2018|Van Nuys   |28.905206942590123|2  |\n",
      "|2018|Harbor     |28.5056967572305  |3  |\n",
      "|2019|West Valley|30.57974335472044 |1  |\n",
      "|2019|N Hollywood|29.23808669119627 |2  |\n",
      "|2019|Foothill   |29.23418714061683 |3  |\n",
      "|2020|West Valley|30.771131982204647|1  |\n",
      "|2020|Harbor     |29.693486590038315|2  |\n",
      "|2020|Topanga    |29.36968052300481 |3  |\n",
      "|2021|West Valley|28.971087440009363|1  |\n",
      "|2021|Foothill   |27.993757094211126|2  |\n",
      "|2021|77th Street|27.10958381061474 |3  |\n",
      "|2022|West Valley|26.536367172306498|1  |\n",
      "|2022|Harbor     |26.337538060026098|2  |\n",
      "|2022|Topanga    |26.234013317831096|3  |\n",
      "|2023|Foothill   |26.76076020122974 |1  |\n",
      "|2023|Topanga    |26.538022616453986|2  |\n",
      "|2023|Van Nuys   |24.969806763285025|3  |\n",
      "|2024|N Hollywood|19.598528961078763|1  |\n",
      "|2024|Foothill   |18.620882188721385|2  |\n",
      "|2024|77th Street|17.586318167150694|3  |\n",
      "+----+-----------+------------------+---+\n",
      "\n",
      "Total execution time (DataFrame): 13.25 seconds"
     ]
    }
   ],
   "source": [
    "# Process data for 2010s and 2020s datasets\n",
    "start_time_df = time.time()\n",
    "\n",
    "top3_2010s = process_data_with_dataframe_per_dataset(\n",
    "    \"s3://initial-notebook-data-bucket-dblab-905418150721/CrimeData/Crime_Data_from_2010_to_2019_20241101.csv\"\n",
    ")\n",
    "\n",
    "top3_2020s = process_data_with_dataframe_per_dataset(\n",
    "    \"s3://initial-notebook-data-bucket-dblab-905418150721/CrimeData/Crime_Data_from_2020_to_Present_20241101.csv\"\n",
    ")\n",
    "\n",
    "# Combine the two datasets and sort by year and rank\n",
    "combined_top3_df = top3_2010s.union(top3_2020s).orderBy(\"year\", \"#\")\n",
    "end_time_df = time.time()\n",
    "execution_time_df = end_time_df - start_time_df\n",
    "\n",
    "# Show the combined result\n",
    "combined_top3_df.show(100, truncate=False)\n",
    "print(f\"Total execution time (DataFrame): {execution_time_df:.2f} seconds\")"
   ]
  },
  {
   "cell_type": "code",
   "execution_count": 3,
   "id": "080965b0",
   "metadata": {},
   "outputs": [
    {
     "data": {
      "application/vnd.jupyter.widget-view+json": {
       "model_id": "",
       "version_major": 2,
       "version_minor": 0
      },
      "text/plain": [
       "FloatProgress(value=0.0, bar_style='info', description='Progress:', layout=Layout(height='25px', width='50%'),…"
      ]
     },
     "metadata": {},
     "output_type": "display_data"
    }
   ],
   "source": [
    "group_number = \"1\"\n",
    "s3_path = \"s3://groups-bucket-dblab-905418150721/group\"+group_number+\"/top-precinct-closed-case-df/\"\n",
    "combined_top3_df.write.mode(\"overwrite\").parquet(s3_path)\n"
   ]
  },
  {
   "cell_type": "code",
   "execution_count": 2,
   "id": "f768f0b0",
   "metadata": {},
   "outputs": [
    {
     "data": {
      "application/vnd.jupyter.widget-view+json": {
       "model_id": "",
       "version_major": 2,
       "version_minor": 0
      },
      "text/plain": [
       "FloatProgress(value=0.0, bar_style='info', description='Progress:', layout=Layout(height='25px', width='50%'),…"
      ]
     },
     "metadata": {},
     "output_type": "display_data"
    },
    {
     "name": "stdout",
     "output_type": "stream",
     "text": [
      "+----+-----------+-----------------+---+\n",
      "|year|precinct   |closed_case_rate |#  |\n",
      "+----+-----------+-----------------+---+\n",
      "|2010|Rampart    |32.84713448949121|1  |\n",
      "|2010|Olympic    |31.51528982199909|2  |\n",
      "|2010|Harbor     |29.36028339237341|3  |\n",
      "|2011|Olympic    |35.04006009013520|1  |\n",
      "|2011|Rampart    |32.49644718143060|2  |\n",
      "|2011|Harbor     |28.51336246316431|3  |\n",
      "|2012|Olympic    |34.29708533302119|1  |\n",
      "|2012|Rampart    |32.46000463714352|2  |\n",
      "|2012|Harbor     |29.50958584895668|3  |\n",
      "|2013|Olympic    |33.58217940999398|1  |\n",
      "|2013|Rampart    |32.10603829160530|2  |\n",
      "|2013|Harbor     |29.72363895148855|3  |\n",
      "|2014|Van Nuys   |32.02152352817050|1  |\n",
      "|2014|West Valley|31.49754809505847|2  |\n",
      "|2014|Foothill   |30.72305974316025|3  |\n",
      "|2015|Van Nuys   |32.26514067715784|1  |\n",
      "|2015|Foothill   |30.35300180365885|2  |\n",
      "|2015|West Valley|30.31622364802933|3  |\n",
      "|2016|Van Nuys   |32.19451846212410|1  |\n",
      "|2016|West Valley|31.40146437042384|2  |\n",
      "|2016|Foothill   |29.90864722813165|3  |\n",
      "|2017|Van Nuys   |32.05542725173210|1  |\n",
      "|2017|Foothill   |30.46970065709418|2  |\n",
      "|2017|West Valley|30.28571428571429|3  |\n",
      "|2018|Foothill   |30.73134695887712|1  |\n",
      "|2018|Van Nuys   |28.90520694259012|2  |\n",
      "|2018|Harbor     |28.50569675723050|3  |\n",
      "|2019|West Valley|30.57974335472044|1  |\n",
      "|2019|N Hollywood|29.23808669119627|2  |\n",
      "|2019|Foothill   |29.23418714061683|3  |\n",
      "|2020|West Valley|30.77113198220465|1  |\n",
      "|2020|Harbor     |29.69348659003831|2  |\n",
      "|2020|Topanga    |29.36968052300481|3  |\n",
      "|2021|West Valley|28.97108744000936|1  |\n",
      "|2021|Foothill   |27.99375709421112|2  |\n",
      "|2021|77th Street|27.10958381061474|3  |\n",
      "|2022|West Valley|26.53636717230650|1  |\n",
      "|2022|Harbor     |26.33753806002610|2  |\n",
      "|2022|Topanga    |26.23401331783110|3  |\n",
      "|2023|Foothill   |26.76076020122974|1  |\n",
      "|2023|Topanga    |26.53802261645399|2  |\n",
      "|2023|Van Nuys   |24.96980676328502|3  |\n",
      "|2024|N Hollywood|19.59852896107876|1  |\n",
      "|2024|Foothill   |18.62088218872138|2  |\n",
      "|2024|77th Street|17.58631816715069|3  |\n",
      "+----+-----------+-----------------+---+\n",
      "\n",
      "Total execution time (SQL): 14.03 seconds"
     ]
    }
   ],
   "source": [
    "from pyspark.sql import SparkSession\n",
    "import time\n",
    "\n",
    "\n",
    "def process_data_with_sql_api(spark, s3_link, view_name,csv = True):\n",
    "  \n",
    "    #read csv or parquet of the crime data\n",
    "\n",
    "    if csv:\n",
    "        crime_data_df = spark.read.csv(s3_link, header=True, inferSchema=True)\n",
    "    else:\n",
    "        crime_data_df = spark.read.parquet(s3_link)\n",
    "    \n",
    "    # create a  view for sql queries\n",
    "    crime_data_df.createOrReplaceTempView(view_name)\n",
    "\n",
    "    \n",
    "    query = f\"\"\"\n",
    "    WITH InitialData AS (\n",
    "        SELECT\n",
    "            *,\n",
    "            YEAR(TO_TIMESTAMP(`DATE OCC`, 'MM/dd/yyyy hh:mm:ss a')) AS year\n",
    "        FROM\n",
    "            {view_name}\n",
    "\n",
    "    ),\n",
    "    GrouppedData AS (\n",
    "        SELECT\n",
    "            year,\n",
    "            `AREA NAME` AS precinct,\n",
    "            (COUNT(CASE WHEN Status NOT IN ('IC', 'UNK') THEN 1 END) * 100.0) / COUNT(*) AS closed_case_rate\n",
    "        FROM\n",
    "            InitialData\n",
    "        WHERE\n",
    "            `AREA NAME` != 'Mission'\n",
    "        GROUP BY\n",
    "            year,\n",
    "            `AREA NAME`\n",
    "    ),\n",
    "    RankedData AS (\n",
    "        SELECT\n",
    "            *,\n",
    "            ROW_NUMBER() OVER (PARTITION BY year ORDER BY closed_case_rate DESC) AS rank\n",
    "        FROM\n",
    "            GrouppedData\n",
    "    )\n",
    "    SELECT\n",
    "        year,\n",
    "        precinct,\n",
    "        closed_case_rate,\n",
    "        rank AS `#`\n",
    "    FROM\n",
    "        RankedData\n",
    "    WHERE\n",
    "        rank <= 3\n",
    "    ORDER BY\n",
    "        year,\n",
    "        rank\n",
    "    \"\"\"\n",
    "    \n",
    "    # execute the SQL query\n",
    "    top3_df = spark.sql(query)\n",
    "    \n",
    "    return top3_df\n",
    "\n",
    "\n",
    "spark = SparkSession \\\n",
    "    .builder \\\n",
    "    .appName(\"CrimeDataAnalysisSQL\") \\\n",
    "    .getOrCreate()    \n",
    "   \n",
    "s3_link_2010s = \"s3://initial-notebook-data-bucket-dblab-905418150721/CrimeData/Crime_Data_from_2010_to_2019_20241101.csv\"\n",
    "s3_link_2020s = \"s3://initial-notebook-data-bucket-dblab-905418150721/CrimeData/Crime_Data_from_2020_to_Present_20241101.csv\"\n",
    "\n",
    "start_time = time.time()\n",
    "       \n",
    "# process the 2010s dataset\n",
    "top3_2010s = process_data_with_sql_api(\n",
    "        spark,\n",
    "        s3_link_2010s,\n",
    "        view_name=\"crime_data_2010s_temp_view\"\n",
    ")\n",
    "        \n",
    "# process the 2020s dataset\n",
    "top3_2020s = process_data_with_sql_api(\n",
    "        spark,\n",
    "        s3_link_2020s,\n",
    "        view_name=\"crime_data_2020s_temp_view\"\n",
    ")\n",
    "        \n",
    "# create temporary views for the top3 DataFrames\n",
    "top3_2010s.createOrReplaceTempView(\"top3_2010s_view\")\n",
    "top3_2020s.createOrReplaceTempView(\"top3_2020s_view\")\n",
    "\n",
    "# SQL query to combine the results\n",
    "combined_query = \"\"\"\n",
    "SELECT * FROM top3_2010s_view\n",
    "UNION ALL\n",
    "SELECT * FROM top3_2020s_view\n",
    "ORDER BY year, `#`\n",
    "\"\"\"\n",
    "\n",
    "# execute the combined SQL query\n",
    "combined_top3_df = spark.sql(combined_query)\n",
    "end_time = time.time()\n",
    "execution_time = end_time - start_time\n",
    "        \n",
    "# showcase the  results\n",
    "combined_top3_df.show(100, truncate=False)\n",
    "\n",
    "print(f\"Total execution time (SQL): {execution_time:.2f} seconds\")\n",
    "\n"
   ]
  },
  {
   "cell_type": "code",
   "execution_count": 6,
   "id": "55595054",
   "metadata": {},
   "outputs": [
    {
     "data": {
      "application/vnd.jupyter.widget-view+json": {
       "model_id": "",
       "version_major": 2,
       "version_minor": 0
      },
      "text/plain": [
       "FloatProgress(value=0.0, bar_style='info', description='Progress:', layout=Layout(height='25px', width='50%'),…"
      ]
     },
     "metadata": {},
     "output_type": "display_data"
    }
   ],
   "source": [
    "#save the results\n",
    "group_number = \"1\"\n",
    "s3_path = \"s3://groups-bucket-dblab-905418150721/group\"+group_number+\"/top-precinct-closed-case-sql/\"\n",
    "combined_top3_df.write.mode(\"overwrite\").parquet(s3_path)\n"
   ]
  },
  {
   "cell_type": "code",
   "execution_count": 8,
   "id": "f7dd1700",
   "metadata": {},
   "outputs": [
    {
     "data": {
      "application/vnd.jupyter.widget-view+json": {
       "model_id": "",
       "version_major": 2,
       "version_minor": 0
      },
      "text/plain": [
       "FloatProgress(value=0.0, bar_style='info', description='Progress:', layout=Layout(height='25px', width='50%'),…"
      ]
     },
     "metadata": {},
     "output_type": "display_data"
    }
   ],
   "source": [
    "from pyspark.sql import SparkSession\n",
    "#create parquet files from the CSVs\n",
    "spark = SparkSession.builder.appName(\"CSV to Parquet\").getOrCreate()\n",
    "#csv paths\n",
    "s3_link_2010s = \"s3://initial-notebook-data-bucket-dblab-905418150721/CrimeData/Crime_Data_from_2010_to_2019_20241101.csv\"\n",
    "s3_link_2020s = \"s3://initial-notebook-data-bucket-dblab-905418150721/CrimeData/Crime_Data_from_2020_to_Present_20241101.csv\"\n",
    "group_number = \"1\"\n",
    "#parquet paths\n",
    "s3_path_2010s = \"s3://groups-bucket-dblab-905418150721/group\"+group_number+\"/parquet-files/crime2010s.parquet\"\n",
    "s3_path_2020s = \"s3://groups-bucket-dblab-905418150721/group\"+group_number+\"/parquet-files/crime2020s.parquet\"\n",
    "#load the data\n",
    "df_2010s = spark.read.csv(s3_link_2010s, header=True, inferSchema=True)\n",
    "df_2020s = spark.read.csv(s3_link_2020s, header=True, inferSchema=True)\n",
    "#write the parquet files\n",
    "df_2010s.write.mode(\"overwrite\").parquet(s3_path_2010s_parquet)\n",
    "df_2020s.write.mode(\"overwrite\").parquet(s3_path_2020s_parquet)\n",
    "\n"
   ]
  },
  {
   "cell_type": "code",
   "execution_count": 3,
   "id": "6c0ae796",
   "metadata": {},
   "outputs": [
    {
     "data": {
      "application/vnd.jupyter.widget-view+json": {
       "model_id": "",
       "version_major": 2,
       "version_minor": 0
      },
      "text/plain": [
       "FloatProgress(value=0.0, bar_style='info', description='Progress:', layout=Layout(height='25px', width='50%'),…"
      ]
     },
     "metadata": {},
     "output_type": "display_data"
    },
    {
     "name": "stdout",
     "output_type": "stream",
     "text": [
      "+----+-----------+------------------+---+\n",
      "|year|precinct   |closed_case_rate  |#  |\n",
      "+----+-----------+------------------+---+\n",
      "|2010|Rampart    |32.84713448949121 |1  |\n",
      "|2010|Olympic    |31.515289821999087|2  |\n",
      "|2010|Harbor     |29.36028339237341 |3  |\n",
      "|2011|Olympic    |35.040060090135206|1  |\n",
      "|2011|Rampart    |32.4964471814306  |2  |\n",
      "|2011|Harbor     |28.51336246316431 |3  |\n",
      "|2012|Olympic    |34.29708533302119 |1  |\n",
      "|2012|Rampart    |32.46000463714352 |2  |\n",
      "|2012|Harbor     |29.509585848956675|3  |\n",
      "|2013|Olympic    |33.58217940999398 |1  |\n",
      "|2013|Rampart    |32.1060382916053  |2  |\n",
      "|2013|Harbor     |29.723638951488557|3  |\n",
      "|2014|Van Nuys   |32.0215235281705  |1  |\n",
      "|2014|West Valley|31.49754809505847 |2  |\n",
      "|2014|Foothill   |30.723059743160245|3  |\n",
      "|2015|Van Nuys   |32.265140677157845|1  |\n",
      "|2015|Foothill   |30.353001803658852|2  |\n",
      "|2015|West Valley|30.316223648029332|3  |\n",
      "|2016|Van Nuys   |32.194518462124094|1  |\n",
      "|2016|West Valley|31.40146437042384 |2  |\n",
      "|2016|Foothill   |29.908647228131645|3  |\n",
      "|2017|Van Nuys   |32.0554272517321  |1  |\n",
      "|2017|Foothill   |30.469700657094183|2  |\n",
      "|2017|West Valley|30.28571428571429 |3  |\n",
      "|2018|Foothill   |30.731346958877126|1  |\n",
      "|2018|Van Nuys   |28.905206942590123|2  |\n",
      "|2018|Harbor     |28.5056967572305  |3  |\n",
      "|2019|West Valley|30.57974335472044 |1  |\n",
      "|2019|N Hollywood|29.23808669119627 |2  |\n",
      "|2019|Foothill   |29.23418714061683 |3  |\n",
      "|2020|West Valley|30.771131982204647|1  |\n",
      "|2020|Harbor     |29.693486590038315|2  |\n",
      "|2020|Topanga    |29.36968052300481 |3  |\n",
      "|2021|West Valley|28.971087440009363|1  |\n",
      "|2021|Foothill   |27.993757094211126|2  |\n",
      "|2021|77th Street|27.10958381061474 |3  |\n",
      "|2022|West Valley|26.536367172306498|1  |\n",
      "|2022|Harbor     |26.337538060026098|2  |\n",
      "|2022|Topanga    |26.234013317831096|3  |\n",
      "|2023|Foothill   |26.76076020122974 |1  |\n",
      "|2023|Topanga    |26.538022616453986|2  |\n",
      "|2023|Van Nuys   |24.969806763285025|3  |\n",
      "|2024|N Hollywood|19.598528961078763|1  |\n",
      "|2024|Foothill   |18.620882188721385|2  |\n",
      "|2024|77th Street|17.586318167150694|3  |\n",
      "+----+-----------+------------------+---+\n",
      "\n",
      "Total execution time parquet (Dataframe): 8.24 seconds"
     ]
    }
   ],
   "source": [
    "spark = SparkSession \\\n",
    "    .builder \\\n",
    "    .appName(\"CrimeDataAnalysisDF\") \\\n",
    "    .getOrCreate()    \n",
    "\n",
    "start_time = time.time()   \n",
    "group_number = \"1\"\n",
    "s3_path_2010s = \"s3://groups-bucket-dblab-905418150721/group\"+group_number+\"/parquet-files/crime2010s.parquet\"\n",
    "s3_path_2020s = \"s3://groups-bucket-dblab-905418150721/group\"+group_number+\"/parquet-files/crime2020s.parquet\"\n",
    "\n",
    "\n",
    "       \n",
    "# process the 2010s dataset\n",
    "top3_2010s = process_data_with_dataframe_per_dataset(\n",
    "        s3_path_2010s,\n",
    "        csv=False\n",
    ")\n",
    "        \n",
    "# process the 2020s dataset\n",
    "top3_2020s = process_data_with_dataframe_per_dataset(\n",
    "        s3_path_2020s,\n",
    "        csv=False\n",
    ")\n",
    "        \n",
    "# combine the results from both datasets\n",
    "combined_top3_df = top3_2010s.union(top3_2020s).orderBy(\"year\", \"#\")\n",
    "end_time = time.time()\n",
    "execution_time = end_time - start_time\n",
    "        \n",
    "# shοw the results\n",
    "combined_top3_df.show(100, truncate=False)\n",
    "\n",
    "print(f\"Total execution time parquet (Dataframe): {execution_time:.2f} seconds\")"
   ]
  },
  {
   "cell_type": "code",
   "execution_count": null,
   "id": "e81b5a9a",
   "metadata": {},
   "outputs": [],
   "source": []
  }
 ],
 "metadata": {
  "kernelspec": {
   "display_name": "Sparkmagic (PySpark)",
   "language": "python",
   "name": "pysparkkernel"
  },
  "language_info": {
   "codemirror_mode": {
    "name": "python",
    "version": 3
   },
   "file_extension": ".py",
   "mimetype": "text/x-python",
   "name": "pyspark",
   "pygments_lexer": "python3"
  }
 },
 "nbformat": 4,
 "nbformat_minor": 5
}

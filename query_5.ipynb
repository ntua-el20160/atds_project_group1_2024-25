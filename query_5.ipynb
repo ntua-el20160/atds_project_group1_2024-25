{
 "cells": [
  {
   "cell_type": "code",
   "execution_count": 1,
   "id": "971fea1d",
   "metadata": {},
   "outputs": [
    {
     "name": "stdout",
     "output_type": "stream",
     "text": [
      "Starting Spark application\n"
     ]
    },
    {
     "data": {
      "text/html": [
       "<table>\n",
       "<tr><th>ID</th><th>YARN Application ID</th><th>Kind</th><th>State</th><th>Spark UI</th><th>Driver log</th><th>User</th><th>Current session?</th></tr><tr><td>3000</td><td>application_1732639283265_2958</td><td>pyspark</td><td>idle</td><td><a target=\"_blank\" href=\"http://ip-192-168-1-36.eu-central-1.compute.internal:20888/proxy/application_1732639283265_2958/\">Link</a></td><td><a target=\"_blank\" href=\"http://ip-192-168-1-233.eu-central-1.compute.internal:8042/node/containerlogs/container_1732639283265_2958_01_000001/livy\">Link</a></td><td>None</td><td>✔</td></tr></table>"
      ],
      "text/plain": [
       "<IPython.core.display.HTML object>"
      ]
     },
     "metadata": {},
     "output_type": "display_data"
    },
    {
     "data": {
      "application/vnd.jupyter.widget-view+json": {
       "model_id": "",
       "version_major": 2,
       "version_minor": 0
      },
      "text/plain": [
       "FloatProgress(value=0.0, bar_style='info', description='Progress:', layout=Layout(height='25px', width='50%'),…"
      ]
     },
     "metadata": {},
     "output_type": "display_data"
    },
    {
     "name": "stdout",
     "output_type": "stream",
     "text": [
      "SparkSession available as 'spark'.\n"
     ]
    },
    {
     "data": {
      "application/vnd.jupyter.widget-view+json": {
       "model_id": "",
       "version_major": 2,
       "version_minor": 0
      },
      "text/plain": [
       "FloatProgress(value=0.0, bar_style='info', description='Progress:', layout=Layout(height='25px', width='50%'),…"
      ]
     },
     "metadata": {},
     "output_type": "display_data"
    }
   ],
   "source": [
    "from pyspark.sql import SparkSession\n",
    "from pyspark.sql.functions import col, count, avg, min as spark_min\n",
    "from pyspark.sql.window import Window\n",
    "from pyspark.sql.functions import row_number, min_by\n",
    "from sedona.register import SedonaRegistrator\n",
    "from sedona.sql.types import GeometryType\n",
    "from sedona.spark import *\n",
    "import time"
   ]
  },
  {
   "cell_type": "code",
   "execution_count": 2,
   "id": "6355edfc",
   "metadata": {},
   "outputs": [
    {
     "data": {
      "application/vnd.jupyter.widget-view+json": {
       "model_id": "",
       "version_major": 2,
       "version_minor": 0
      },
      "text/plain": [
       "FloatProgress(value=0.0, bar_style='info', description='Progress:', layout=Layout(height='25px', width='50%'),…"
      ]
     },
     "metadata": {},
     "output_type": "display_data"
    }
   ],
   "source": [
    "def run_query_5(executors, executor_cores, executor_memory):\n",
    "        # Initialize Spark session\n",
    "    spark = SparkSession.builder \\\n",
    "        .appName(\"CrimeAmountCloseToStation\") \\\n",
    "        .master(\"yarn\") \\\n",
    "        .config(\"spark.executor.instances\", str(executors)) \\\n",
    "        .config(\"spark.executor.cores\", str(executor_cores)) \\\n",
    "        .config(\"spark.executor.memory\", executor_memory) \\\n",
    "        .config(\"spark.sql.extensions\", \"org.apache.sedona.sql.SedonaSqlExtensions\") \\\n",
    "        .config(\"spark.serializer\", \"org.apache.spark.serializer.KryoSerializer\") \\\n",
    "        .config(\"spark.kryo.registrator\", \"org.apache.sedona.core.serde.SedonaKryoRegistrator\") \\\n",
    "        .getOrCreate()\n",
    "\n",
    "    # Register Sedona user-defined functions and types\n",
    "    SedonaRegistrator.registerAll(spark)\n",
    "\n",
    "    # Create Sedona context\n",
    "    sedona = SedonaContext.create(spark)\n",
    "\n",
    "    start_time_df = time.time()\n",
    "    \n",
    "    # Load 2010s and 2020s crime datasets\n",
    "    crime_raw_1 = spark.read.csv(\n",
    "        \"s3://initial-notebook-data-bucket-dblab-905418150721/CrimeData/Crime_Data_from_2010_to_2019_20241101.csv\",\n",
    "        header=True)\n",
    "    crime_raw_2 = spark.read.csv(\n",
    "        \"s3://initial-notebook-data-bucket-dblab-905418150721/CrimeData/Crime_Data_from_2020_to_Present_20241101.csv\",\n",
    "        header=True)\n",
    "    \n",
    "    # Combine the datasets and create the crime point column\n",
    "    crimes = (crime_raw_1\n",
    "              .union(crime_raw_2)\n",
    "              .select(\n",
    "                  ST_Point(\"LON\", \"LAT\").alias(\"crime_point\"),\n",
    "                  col(\"DR_NO\").alias(\"crime_id\")))\n",
    "\n",
    "    # Load the police station dataset and create a station point column\n",
    "    stations = (spark\n",
    "                .read\n",
    "                .csv(\n",
    "                    \"s3://initial-notebook-data-bucket-dblab-905418150721/LA_Police_Stations.csv\",\n",
    "                    header=True)\n",
    "                .select(ST_Point(\"X\", \"Y\").alias(\"station_point\"),\n",
    "                        col(\"DIVISION\").alias(\"division\"),\n",
    "                        col(\"FID\").alias(\"station_id\")))\n",
    "\n",
    "    # Pair crimes with all stations and compute distances\n",
    "    crime_station_distances = (crimes.crossJoin(stations)\n",
    "                               .select(\n",
    "                                   col(\"crime_id\"),\n",
    "                                   col(\"station_id\"),\n",
    "                                   ST_DistanceSphere(col(\"crime_point\"), col(\"station_point\")).alias(\"distance\")\n",
    "                               ))\n",
    "\n",
    "    # Find the closest station for each crime\n",
    "    closest_stations = crime_station_distances \\\n",
    "        .groupBy(\"crime_id\") \\\n",
    "        .agg(\n",
    "            spark_min(col(\"distance\")).alias(\"min_distance\"),\n",
    "            min_by(\"station_id\", \"distance\").alias(\"closest_station_id\")\n",
    "        )\n",
    "\n",
    "    # Count crimes and calculate average distances per station\n",
    "    station_stats = closest_stations \\\n",
    "        .groupBy(\"closest_station_id\") \\\n",
    "        .agg(\n",
    "            count(\"*\").alias(\"crime_count\"),\n",
    "            avg(\"min_distance\").alias(\"avg_distance\")\n",
    "        )\n",
    "\n",
    "    results = (station_stats\n",
    "               .join(\n",
    "                   stations,\n",
    "                   stations[\"station_id\"] == station_stats[\"closest_station_id\"])\n",
    "               .select(\n",
    "                   col(\"division\"),\n",
    "                   col(\"avg_distance\").alias(\"average_distance\"),\n",
    "                   col(\"crime_count\").alias(\"#\"),\n",
    "               )\n",
    "               .orderBy(col(\"#\").desc()))\n",
    "\n",
    "    end_time_df = time.time()\n",
    "    execution_time_df = end_time_df - start_time_df\n",
    "\n",
    "    # Print the results\n",
    "    print(f\"\\nRunning query with {executors} executor(s), {executor_cores} core(s) and {executor_memory} memory per executor...\")\n",
    "    print(\"The amount of crimes committed closer to that station than any other and their average distance from it\")\n",
    "    results.show(n=results.count(), truncate=False)\n",
    "    print(f\"Total execution time: {execution_time_df:.2f} seconds\")\n",
    "\n",
    "    # Stop the Spark session to ensure no caching affects subsequent runs\n",
    "    spark.sparkContext.stop()\n",
    "    spark.stop()\n"
   ]
  },
  {
   "cell_type": "code",
   "execution_count": 3,
   "id": "69e715e6",
   "metadata": {},
   "outputs": [
    {
     "data": {
      "application/vnd.jupyter.widget-view+json": {
       "model_id": "",
       "version_major": 2,
       "version_minor": 0
      },
      "text/plain": [
       "FloatProgress(value=0.0, bar_style='info', description='Progress:', layout=Layout(height='25px', width='50%'),…"
      ]
     },
     "metadata": {},
     "output_type": "display_data"
    },
    {
     "name": "stdout",
     "output_type": "stream",
     "text": [
      "\n",
      "Running query with 2 executor(s), 4 core(s) and 8g memory per executor...\n",
      "The amount of crimes committed closer to that station than any other and their average distance from it\n",
      "+----------------+------------------+------+\n",
      "|division        |average_distance  |#     |\n",
      "+----------------+------------------+------+\n",
      "|HOLLYWOOD       |2076.263960178729 |224340|\n",
      "|VAN NUYS        |2953.369742819791 |210134|\n",
      "|SOUTHWEST       |2191.3988057808765|188901|\n",
      "|WILSHIRE        |2592.6655329787786|185996|\n",
      "|77TH STREET     |1716.544971970108 |171827|\n",
      "|OLYMPIC         |1723.6036971780964|170897|\n",
      "|NORTH HOLLYWOOD |2643.0060941415686|167854|\n",
      "|PACIFIC         |3850.070655307912 |161359|\n",
      "|CENTRAL         |992.4764374568797 |153871|\n",
      "|RAMPART         |1534.5341879190164|152736|\n",
      "|SOUTHEAST       |2421.866215888182 |152176|\n",
      "|WEST VALLEY     |3035.6712163140596|138643|\n",
      "|TOPANGA         |3296.954841755584 |138217|\n",
      "|FOOTHILL        |4250.921708425003 |134896|\n",
      "|HARBOR          |3702.5615993564966|126747|\n",
      "|HOLLENBECK      |366921.3044614886 |119294|\n",
      "|WEST LOS ANGELES|2792.4572890341096|115781|\n",
      "|NEWTON          |1634.6357397097424|111110|\n",
      "|NORTHEAST       |3623.6655246040796|108109|\n",
      "|MISSION         |3690.9426142786037|103355|\n",
      "|DEVONSHIRE      |2824.765412800803 |77094 |\n",
      "+----------------+------------------+------+\n",
      "\n",
      "Total execution time: 3.76 seconds"
     ]
    }
   ],
   "source": [
    "executors =2\n",
    "cores = 4\n",
    "memory = \"8g\"\n",
    "run_query_5(executors,cores, memory)"
   ]
  },
  {
   "cell_type": "code",
   "execution_count": 4,
   "id": "20bb24ab",
   "metadata": {},
   "outputs": [
    {
     "data": {
      "application/vnd.jupyter.widget-view+json": {
       "model_id": "",
       "version_major": 2,
       "version_minor": 0
      },
      "text/plain": [
       "FloatProgress(value=0.0, bar_style='info', description='Progress:', layout=Layout(height='25px', width='50%'),…"
      ]
     },
     "metadata": {},
     "output_type": "display_data"
    },
    {
     "name": "stdout",
     "output_type": "stream",
     "text": [
      "\n",
      "Running query with 4 executor(s), 2 core(s) and 4g memory per executor...\n",
      "The amount of crimes committed closer to that station than any other and their average distance from it\n",
      "+----------------+------------------+------+\n",
      "|division        |average_distance  |#     |\n",
      "+----------------+------------------+------+\n",
      "|HOLLYWOOD       |2076.2639601787296|224340|\n",
      "|VAN NUYS        |2953.3697428197916|210134|\n",
      "|SOUTHWEST       |2191.398805780876 |188901|\n",
      "|WILSHIRE        |2592.665532978779 |185996|\n",
      "|77TH STREET     |1716.5449719701076|171827|\n",
      "|OLYMPIC         |1723.6036971780964|170897|\n",
      "|NORTH HOLLYWOOD |2643.0060941415686|167854|\n",
      "|PACIFIC         |3850.0706553079117|161359|\n",
      "|CENTRAL         |992.4764374568801 |153871|\n",
      "|RAMPART         |1534.5341879190166|152736|\n",
      "|SOUTHEAST       |2421.8662158881825|152176|\n",
      "|WEST VALLEY     |3035.6712163140596|138643|\n",
      "|TOPANGA         |3296.9548417555848|138217|\n",
      "|FOOTHILL        |4250.921708425002 |134896|\n",
      "|HARBOR          |3702.561599356497 |126747|\n",
      "|HOLLENBECK      |366921.3044614886 |119294|\n",
      "|WEST LOS ANGELES|2792.4572890341096|115781|\n",
      "|NEWTON          |1634.6357397097424|111110|\n",
      "|NORTHEAST       |3623.66552460408  |108109|\n",
      "|MISSION         |3690.9426142786037|103355|\n",
      "|DEVONSHIRE      |2824.765412800803 |77094 |\n",
      "+----------------+------------------+------+\n",
      "\n",
      "Total execution time: 4.49 seconds"
     ]
    }
   ],
   "source": [
    "executors =4\n",
    "cores = 2\n",
    "memory = \"4g\"\n",
    "run_query_5(executors,cores, memory)"
   ]
  },
  {
   "cell_type": "code",
   "execution_count": 3,
   "id": "d5e51abe",
   "metadata": {},
   "outputs": [
    {
     "data": {
      "application/vnd.jupyter.widget-view+json": {
       "model_id": "",
       "version_major": 2,
       "version_minor": 0
      },
      "text/plain": [
       "FloatProgress(value=0.0, bar_style='info', description='Progress:', layout=Layout(height='25px', width='50%'),…"
      ]
     },
     "metadata": {},
     "output_type": "display_data"
    },
    {
     "name": "stdout",
     "output_type": "stream",
     "text": [
      "\n",
      "Running query with 8 executor(s), 1 core(s) and 2g memory per executor...\n",
      "The amount of crimes committed closer to that station than any other and their average distance from it\n",
      "+----------------+------------------+------+\n",
      "|division        |average_distance  |#     |\n",
      "+----------------+------------------+------+\n",
      "|HOLLYWOOD       |2076.263960178729 |224340|\n",
      "|VAN NUYS        |2953.3697428197916|210134|\n",
      "|SOUTHWEST       |2191.398805780877 |188901|\n",
      "|WILSHIRE        |2592.665532978779 |185996|\n",
      "|77TH STREET     |1716.5449719701076|171827|\n",
      "|OLYMPIC         |1723.6036971780964|170897|\n",
      "|NORTH HOLLYWOOD |2643.006094141569 |167854|\n",
      "|PACIFIC         |3850.070655307912 |161359|\n",
      "|CENTRAL         |992.4764374568801 |153871|\n",
      "|RAMPART         |1534.5341879190164|152736|\n",
      "|SOUTHEAST       |2421.866215888182 |152176|\n",
      "|WEST VALLEY     |3035.6712163140583|138643|\n",
      "|TOPANGA         |3296.9548417555843|138217|\n",
      "|FOOTHILL        |4250.921708425001 |134896|\n",
      "|HARBOR          |3702.561599356497 |126747|\n",
      "|HOLLENBECK      |366921.3044614886 |119294|\n",
      "|WEST LOS ANGELES|2792.4572890341096|115781|\n",
      "|NEWTON          |1634.6357397097424|111110|\n",
      "|NORTHEAST       |3623.66552460408  |108109|\n",
      "|MISSION         |3690.9426142786037|103355|\n",
      "|DEVONSHIRE      |2824.7654128008035|77094 |\n",
      "+----------------+------------------+------+\n",
      "\n",
      "Total execution time: 6.99 seconds"
     ]
    }
   ],
   "source": [
    "executors =8\n",
    "cores = 1\n",
    "memory = \"2g\"\n",
    "run_query_5(executors,cores, memory)"
   ]
  },
  {
   "cell_type": "code",
   "execution_count": null,
   "id": "4ff40c45",
   "metadata": {},
   "outputs": [],
   "source": []
  }
 ],
 "metadata": {
  "kernelspec": {
   "display_name": "Sparkmagic (PySpark)",
   "language": "python",
   "name": "pysparkkernel"
  },
  "language_info": {
   "codemirror_mode": {
    "name": "python",
    "version": 3
   },
   "file_extension": ".py",
   "mimetype": "text/x-python",
   "name": "pyspark",
   "pygments_lexer": "python3"
  }
 },
 "nbformat": 4,
 "nbformat_minor": 5
}

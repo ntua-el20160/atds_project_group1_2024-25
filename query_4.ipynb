{
 "cells": [
  {
   "cell_type": "code",
   "execution_count": 1,
   "id": "0618d7d3",
   "metadata": {},
   "outputs": [
    {
     "name": "stdout",
     "output_type": "stream",
     "text": [
      "Starting Spark application\n"
     ]
    },
    {
     "data": {
      "text/html": [
       "<table>\n",
       "<tr><th>ID</th><th>YARN Application ID</th><th>Kind</th><th>State</th><th>Spark UI</th><th>Driver log</th><th>User</th><th>Current session?</th></tr><tr><td>2615</td><td>application_1732639283265_2574</td><td>pyspark</td><td>idle</td><td><a target=\"_blank\" href=\"http://ip-192-168-1-36.eu-central-1.compute.internal:20888/proxy/application_1732639283265_2574/\">Link</a></td><td><a target=\"_blank\" href=\"http://ip-192-168-1-119.eu-central-1.compute.internal:8042/node/containerlogs/container_1732639283265_2574_01_000001/livy\">Link</a></td><td>None</td><td>✔</td></tr></table>"
      ],
      "text/plain": [
       "<IPython.core.display.HTML object>"
      ]
     },
     "metadata": {},
     "output_type": "display_data"
    },
    {
     "data": {
      "application/vnd.jupyter.widget-view+json": {
       "model_id": "",
       "version_major": 2,
       "version_minor": 0
      },
      "text/plain": [
       "FloatProgress(value=0.0, bar_style='info', description='Progress:', layout=Layout(height='25px', width='50%'),…"
      ]
     },
     "metadata": {},
     "output_type": "display_data"
    },
    {
     "name": "stdout",
     "output_type": "stream",
     "text": [
      "SparkSession available as 'spark'.\n"
     ]
    },
    {
     "data": {
      "application/vnd.jupyter.widget-view+json": {
       "model_id": "",
       "version_major": 2,
       "version_minor": 0
      },
      "text/plain": [
       "FloatProgress(value=0.0, bar_style='info', description='Progress:', layout=Layout(height='25px', width='50%'),…"
      ]
     },
     "metadata": {},
     "output_type": "display_data"
    }
   ],
   "source": [
    "from pyspark.sql import SparkSession\n",
    "from pyspark.sql.functions import *\n",
    "from sedona.register import SedonaRegistrator\n",
    "from sedona.sql.types import GeometryType\n",
    "from sedona.spark import *\n",
    "from pyspark.sql.functions import regexp_replace,regexp_extract, col, split, explode, trim, avg\n",
    "from pyspark.sql.types import DoubleType\n",
    "import time"
   ]
  },
  {
   "cell_type": "code",
   "execution_count": 2,
   "id": "a75539f8",
   "metadata": {},
   "outputs": [
    {
     "data": {
      "application/vnd.jupyter.widget-view+json": {
       "model_id": "",
       "version_major": 2,
       "version_minor": 0
      },
      "text/plain": [
       "FloatProgress(value=0.0, bar_style='info', description='Progress:', layout=Layout(height='25px', width='50%'),…"
      ]
     },
     "metadata": {},
     "output_type": "display_data"
    }
   ],
   "source": [
    "def run_query_4(executor_cores, executor_memory):\n",
    "   \n",
    "    # initialize spark session\n",
    "    spark = SparkSession.builder \\\n",
    "        .appName(\"IncomeCriminalityPerCommunity\") \\\n",
    "        .master(\"yarn\") \\\n",
    "        .config(\"spark.executor.instances\", \"2\") \\\n",
    "        .config(\"spark.executor.cores\", str(executor_cores)) \\\n",
    "        .config(\"spark.executor.memory\", executor_memory) \\\n",
    "        .config(\"spark.sql.extensions\", \"org.apache.sedona.sql.SedonaSqlExtensions\") \\\n",
    "        .config(\"spark.serializer\", \"org.apache.spark.serializer.KryoSerializer\") \\\n",
    "        .config(\"spark.kryo.registrator\", \"org.apache.sedona.core.serde.SedonaKryoRegistrator\") \\\n",
    "        .getOrCreate()\n",
    "    \n",
    "    # register sedona user defined functions and types\n",
    "    SedonaRegistrator.registerAll(spark)\n",
    "    \n",
    "    # create Sedona context\n",
    "    sedona = SedonaContext.create(spark)\n",
    "    \n",
    "    start_time_df = time.time()\n",
    "    #load the median income data\n",
    "    la_income_2015_df = spark.read.csv(\"s3://initial-notebook-data-bucket-dblab-905418150721/LA_income_2015.csv\", header=True, inferSchema=True)\n",
    "    #keep only the blocks that are in los angeles\n",
    "    la_income_2015_df = la_income_2015_df.filter(la_income_2015_df.Community.startswith(\"Los Angeles\"))\n",
    "    #make the estimated median income an integer instead of a string\n",
    "    la_income_2015_df = la_income_2015_df.withColumn(\n",
    "        \"Estimated Median Income\",\n",
    "        regexp_replace(col(\"Estimated Median Income\"), \"[$,]\", \"\").cast(DoubleType())\n",
    "    ).select(\n",
    "        col(\"Zip Code\").alias(\"zipcode\"),\n",
    "        col(\"Estimated Median Income\")\n",
    "    )\n",
    "\n",
    "    \n",
    "    \n",
    "    #read the census data (geojson) and flatten arrays into rows\n",
    "    census_path = \"s3://initial-notebook-data-bucket-dblab-905418150721/2010_Census_Blocks.geojson\"\n",
    "    census_raw = sedona.read.format(\"geojson\") \\\n",
    "                .option(\"multiLine\", \"true\").load(census_path) \\\n",
    "                .selectExpr(\"explode(features) as features\") \\\n",
    "                .select(\"features.*\")      \n",
    "    # turn each of the properties into columns and keep geometry\n",
    "    census_data = census_raw.select( \\\n",
    "                    [col(f\"properties.{col_name}\").alias(col_name) for col_name in \\\n",
    "                    census_raw.schema[\"properties\"].dataType.fieldNames()] + [\"geometry\"]) \\\n",
    "                .drop(\"properties\") \\\n",
    "                .drop(\"type\")\n",
    "    #keep the necessary columns zipcode, geometry, population and housing\n",
    "    census_transformed = census_data.filter((col(\"CITY\") == \"Los Angeles\")).select(\n",
    "        col(\"ZCTA10\").alias(\"zipcode\"),\n",
    "        col(\"geometry\"),\n",
    "        col(\"POP_2010\"),\n",
    "        col(\"COMM\").alias(\"community\"),\n",
    "        col(\"HOUSING10\")\n",
    "    )\n",
    "    #join the census dataset with the income dataset based on zipcodes\n",
    "    census_income = census_transformed.join(\n",
    "        la_income_2015_df, \n",
    "        on=\"zipcode\",\n",
    "        how=\"inner\"\n",
    "    )\n",
    "    #group the data based on community,calculated the total population, the total income and the income per person\n",
    "    census_income = census_income.groupBy(\"community\").agg(\n",
    "                sum(\"POP_2010\").alias(\"population\"),\n",
    "                sum(col(\"HOUSING10\") * col(\"Estimated Median Income\")).alias(\"total income\"),\n",
    "                ST_Union_Aggr(\"geometry\").alias(\"geometry\")\n",
    "            ).withColumn(\n",
    "                    \"income per person\",\n",
    "                    col(\"total income\") / col(\"population\")\n",
    "            )\n",
    "    #keep the geometries of the areas with the top and bottom 3 incomes per person\n",
    "    top_3_census =  census_income.orderBy(desc(\"income per person\")).select(\"geometry\").limit(3)\n",
    "    bottom_3_census =  census_income.orderBy(asc(\"income per person\")).select(\"geometry\").limit(3)\n",
    "    \n",
    "    #load the 2010-2019 crime data\n",
    "    crimes = spark.read.csv(\"s3://initial-notebook-data-bucket-dblab-905418150721/CrimeData/Crime_Data_from_2010_to_2019_20241101.csv\", header=True, inferSchema=True)\n",
    "    #create a column for the years(extracting it from the date column)\n",
    "    crimes = crimes.withColumn(\n",
    "            \"year\",\n",
    "            year(to_timestamp(col(\"DATE OCC\"), \"MM/dd/yyyy hh:mm:ss a\"))\n",
    "        )\n",
    "    #keep only the crimes that took place in 2015\n",
    "    crimes = crimes.where(col(\"year\") == 2015)\n",
    "    \n",
    "    #keep only the necessary columns of victim descent,longtitude and latitude\n",
    "    #also add a column that creates a coordinate value from longtitude and latitude for sedona\n",
    "    crimes_with_geom = crimes.select(\n",
    "        col(\"Vict Descent\").alias(\"vict_descent\"),\n",
    "        col(\"LAT\").alias(\"lat\"),\n",
    "        col(\"LON\").alias(\"lon\")\n",
    "    ).withColumn(\n",
    "        \"crime_point\",\n",
    "        ST_Point(col(\"lon\"), col(\"lat\"))\n",
    "    )\n",
    "    # join the crimes and top 3 income location geometries by keeping the crimes that \n",
    "    # their location is contained in one of the geometry values of the top 3 income areas\n",
    "    top_3_crimes_df = top_3_census.alias(\"t\") \\\n",
    "        .join(\n",
    "            crimes_with_geom.alias(\"c\"),\n",
    "            on=ST_Contains(col(\"t.geometry\"), col(\"c.crime_point\")),  # condition\n",
    "            how=\"inner\"\n",
    "        )\n",
    "    #similarly for the bottom 3 areas\n",
    "    bottom_3_crimes_df = bottom_3_census.alias(\"b\") \\\n",
    "        .join(\n",
    "            crimes_with_geom.alias(\"c\"),\n",
    "            on=ST_Contains(col(\"b.geometry\"), col(\"c.crime_point\")),\n",
    "            how=\"inner\"\n",
    "        )\n",
    "    \n",
    "    #keep only the victim descent from the collected crimes\n",
    "    top_3_crimes_df = top_3_crimes_df.drop(\"geometry\",\"crime_point\",\"lat\",\"lon\")\n",
    "    bottom_3_crimes_df = bottom_3_crimes_df.drop(\"geometry\",\"crime_point\",\"lat\",\"lon\")\n",
    "    # group the crimes based on victim descent and count the amount of each\n",
    "    top_3_grouped = top_3_crimes_df.groupBy(\"vict_descent\").agg(count(\"*\").alias(\"#\"))\n",
    "    bottom_3_grouped = bottom_3_crimes_df.groupBy(\"vict_descent\").agg(count(\"*\").alias(\"#\"))\n",
    "    #load the race and ethnicity codes dataset\n",
    "    recodes_df = spark.read.csv(\"s3://initial-notebook-data-bucket-dblab-905418150721/RE_codes.csv\")\n",
    "    #inner join the grouped crime data with the race and ethnicity codes to match the codes with the corresponding group name\n",
    "    top_3_grouped_full = (\n",
    "        top_3_grouped\n",
    "        .join(\n",
    "            recodes_df,\n",
    "            on=(top_3_grouped[\"vict_descent\"] == recodes_df[\"_c0\"]),\n",
    "            how=\"inner\"\n",
    "        )\n",
    "    )\n",
    "    bottom_3_grouped_full = (\n",
    "        bottom_3_grouped\n",
    "        .join(\n",
    "            recodes_df,\n",
    "            on=(top_3_grouped[\"vict_descent\"] == recodes_df[\"_c0\"]),\n",
    "            how=\"inner\"\n",
    "        )\n",
    "    )\n",
    "    #drop the uncessary coulmns\n",
    "    top_3_grouped_full = top_3_grouped_full.drop(\"_c0\", \"vict_descent\")\n",
    "    bottom_3_grouped_full = bottom_3_grouped_full.drop(\"_c0\", \"vict_descent\")\n",
    "    #order them in a descenting order\n",
    "    top_3_grouped_full = top_3_grouped_full.orderBy(col(\"#\").desc())\n",
    "    bottom_3_grouped_full = bottom_3_grouped_full.orderBy(col(\"#\").desc())\n",
    "    #rename the victim descent column\n",
    "    top_3_grouped_full = top_3_grouped_full.select(col(\"_c1\").alias(\"Victim Descent\"), col(\"#\"))\n",
    "    bottom_3_grouped_full = bottom_3_grouped_full.select(col(\"_c1\").alias(\"Victim Descent\"), col(\"#\"))\n",
    "    end_time_df = time.time()\n",
    "    execution_time_df = end_time_df - start_time_df\n",
    "\n",
    "    #printing the results\n",
    "    print(\"The victim descent of the crimes commited in 2015 in the 3 areas with the highest income in los angeles:\")\n",
    "    top_3_grouped_full.show(truncate=False)\n",
    "    print(\"The victim descent of the crimes commited in 2015 in the 3 areas with the lowest income in los angeles:\")\n",
    "    bottom_3_grouped_full.show(truncate=False)\n",
    "    print(f\"Total execution time: {execution_time_df:.2f} seconds\")\n"
   ]
  },
  {
   "cell_type": "code",
   "execution_count": 4,
   "id": "475c02ad",
   "metadata": {},
   "outputs": [
    {
     "data": {
      "application/vnd.jupyter.widget-view+json": {
       "model_id": "",
       "version_major": 2,
       "version_minor": 0
      },
      "text/plain": [
       "FloatProgress(value=0.0, bar_style='info', description='Progress:', layout=Layout(height='25px', width='50%'),…"
      ]
     },
     "metadata": {},
     "output_type": "display_data"
    },
    {
     "name": "stdout",
     "output_type": "stream",
     "text": [
      "\n",
      "Running query with 1 core(s) and 2g memory per executor...\n",
      "The victim descent of the crimes commited in 2015 in the 3 areas with the highest income in los angeles:\n",
      "+------------------------------+---+\n",
      "|Victim Descent                |#  |\n",
      "+------------------------------+---+\n",
      "|White                         |642|\n",
      "|Other                         |83 |\n",
      "|Hispanic/Latin/Mexican        |71 |\n",
      "|Unknown                       |47 |\n",
      "|Black                         |41 |\n",
      "|Other Asian                   |22 |\n",
      "|Chinese                       |1  |\n",
      "|American Indian/Alaskan Native|1  |\n",
      "+------------------------------+---+\n",
      "\n",
      "The victim descent of the crimes commited in 2015 in the 3 areas with the lowest income in los angeles:\n",
      "+------------------------------+----+\n",
      "|Victim Descent                |#   |\n",
      "+------------------------------+----+\n",
      "|Hispanic/Latin/Mexican        |3342|\n",
      "|Black                         |1127|\n",
      "|White                         |428 |\n",
      "|Other                         |252 |\n",
      "|Other Asian                   |138 |\n",
      "|Unknown                       |30  |\n",
      "|American Indian/Alaskan Native|23  |\n",
      "|Korean                        |4   |\n",
      "|Filipino                      |3   |\n",
      "|Chinese                       |3   |\n",
      "|AsianIndian                   |1   |\n",
      "|Guamanian                     |1   |\n",
      "+------------------------------+----+\n",
      "\n",
      "Total execution time: 21.74 seconds"
     ]
    }
   ],
   "source": [
    "cores = 1\n",
    "memory = \"2g\"\n",
    "print(f\"\\nRunning query with {cores} core(s) and {memory} memory per executor...\")\n",
    "exec_time = run_query_4(cores, memory)"
   ]
  },
  {
   "cell_type": "code",
   "execution_count": 3,
   "id": "0a66f2db",
   "metadata": {},
   "outputs": [
    {
     "data": {
      "application/vnd.jupyter.widget-view+json": {
       "model_id": "",
       "version_major": 2,
       "version_minor": 0
      },
      "text/plain": [
       "FloatProgress(value=0.0, bar_style='info', description='Progress:', layout=Layout(height='25px', width='50%'),…"
      ]
     },
     "metadata": {},
     "output_type": "display_data"
    },
    {
     "name": "stdout",
     "output_type": "stream",
     "text": [
      "\n",
      "Running query with 2 core(s) and 4g memory per executor...\n",
      "The victim descent of the crimes commited in 2015 in the 3 areas with the highest income in los angeles:\n",
      "+------------------------------+---+\n",
      "|Victim Descent                |#  |\n",
      "+------------------------------+---+\n",
      "|White                         |642|\n",
      "|Other                         |83 |\n",
      "|Hispanic/Latin/Mexican        |71 |\n",
      "|Unknown                       |47 |\n",
      "|Black                         |41 |\n",
      "|Other Asian                   |22 |\n",
      "|American Indian/Alaskan Native|1  |\n",
      "|Chinese                       |1  |\n",
      "+------------------------------+---+\n",
      "\n",
      "The victim descent of the crimes commited in 2015 in the 3 areas with the lowest income in los angeles:\n",
      "+------------------------------+----+\n",
      "|Victim Descent                |#   |\n",
      "+------------------------------+----+\n",
      "|Hispanic/Latin/Mexican        |3342|\n",
      "|Black                         |1127|\n",
      "|White                         |428 |\n",
      "|Other                         |252 |\n",
      "|Other Asian                   |138 |\n",
      "|Unknown                       |30  |\n",
      "|American Indian/Alaskan Native|23  |\n",
      "|Korean                        |4   |\n",
      "|Filipino                      |3   |\n",
      "|Chinese                       |3   |\n",
      "|AsianIndian                   |1   |\n",
      "|Guamanian                     |1   |\n",
      "+------------------------------+----+\n",
      "\n",
      "Total execution time: 19.67 seconds"
     ]
    }
   ],
   "source": [
    "cores = 2\n",
    "memory = \"4g\"\n",
    "print(f\"\\nRunning query with {cores} core(s) and {memory} memory per executor...\")\n",
    "exec_time = run_query_4(cores, memory)\n"
   ]
  },
  {
   "cell_type": "code",
   "execution_count": 3,
   "id": "8790e6d8",
   "metadata": {},
   "outputs": [
    {
     "data": {
      "application/vnd.jupyter.widget-view+json": {
       "model_id": "",
       "version_major": 2,
       "version_minor": 0
      },
      "text/plain": [
       "FloatProgress(value=0.0, bar_style='info', description='Progress:', layout=Layout(height='25px', width='50%'),…"
      ]
     },
     "metadata": {},
     "output_type": "display_data"
    },
    {
     "name": "stdout",
     "output_type": "stream",
     "text": [
      "\n",
      "Running query with 4 core(s) and 8g memory per executor...\n",
      "The victim descent of the crimes commited in 2015 in the 3 areas with the highest income in los angeles:\n",
      "+------------------------------+---+\n",
      "|Victim Descent                |#  |\n",
      "+------------------------------+---+\n",
      "|White                         |642|\n",
      "|Other                         |83 |\n",
      "|Hispanic/Latin/Mexican        |71 |\n",
      "|Unknown                       |47 |\n",
      "|Black                         |41 |\n",
      "|Other Asian                   |22 |\n",
      "|American Indian/Alaskan Native|1  |\n",
      "|Chinese                       |1  |\n",
      "+------------------------------+---+\n",
      "\n",
      "The victim descent of the crimes commited in 2015 in the 3 areas with the lowest income in los angeles:\n",
      "+------------------------------+----+\n",
      "|Victim Descent                |#   |\n",
      "+------------------------------+----+\n",
      "|Hispanic/Latin/Mexican        |3342|\n",
      "|Black                         |1127|\n",
      "|White                         |428 |\n",
      "|Other                         |252 |\n",
      "|Other Asian                   |138 |\n",
      "|Unknown                       |30  |\n",
      "|American Indian/Alaskan Native|23  |\n",
      "|Korean                        |4   |\n",
      "|Filipino                      |3   |\n",
      "|Chinese                       |3   |\n",
      "|Guamanian                     |1   |\n",
      "|AsianIndian                   |1   |\n",
      "+------------------------------+----+\n",
      "\n",
      "Total execution time: 18.95 seconds"
     ]
    }
   ],
   "source": [
    "cores = 4\n",
    "memory = \"8g\"\n",
    "print(f\"\\nRunning query with {cores} core(s) and {memory} memory per executor...\")\n",
    "exec_time = run_query_4(cores, memory)"
   ]
  }
 ],
 "metadata": {
  "kernelspec": {
   "display_name": "Sparkmagic (PySpark)",
   "language": "python",
   "name": "pysparkkernel"
  },
  "language_info": {
   "codemirror_mode": {
    "name": "python",
    "version": 3
   },
   "file_extension": ".py",
   "mimetype": "text/x-python",
   "name": "pyspark",
   "pygments_lexer": "python3"
  }
 },
 "nbformat": 4,
 "nbformat_minor": 5
}
